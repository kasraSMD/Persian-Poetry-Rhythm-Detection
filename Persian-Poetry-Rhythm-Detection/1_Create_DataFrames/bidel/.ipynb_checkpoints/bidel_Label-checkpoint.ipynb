{
 "cells": [
  {
   "cell_type": "code",
   "execution_count": 1,
   "id": "af73be62-3911-4536-91ed-4f880cf22004",
   "metadata": {},
   "outputs": [],
   "source": [
    "import pandas as pd"
   ]
  },
  {
   "cell_type": "code",
   "execution_count": 2,
   "id": "854af468-46e2-48ad-b610-6c87cfe6a077",
   "metadata": {},
   "outputs": [],
   "source": [
    "bidel = pd.read_csv(\"bidel.csv\", encoding='utf-8')"
   ]
  },
  {
   "cell_type": "code",
   "execution_count": 4,
   "id": "8867bca5-ca55-435d-8212-7d2379757bdf",
   "metadata": {},
   "outputs": [
    {
     "data": {
      "text/html": [
       "<div>\n",
       "<style scoped>\n",
       "    .dataframe tbody tr th:only-of-type {\n",
       "        vertical-align: middle;\n",
       "    }\n",
       "\n",
       "    .dataframe tbody tr th {\n",
       "        vertical-align: top;\n",
       "    }\n",
       "\n",
       "    .dataframe thead th {\n",
       "        text-align: right;\n",
       "    }\n",
       "</style>\n",
       "<table border=\"1\" class=\"dataframe\">\n",
       "  <thead>\n",
       "    <tr style=\"text-align: right;\">\n",
       "      <th></th>\n",
       "      <th>poem_id</th>\n",
       "      <th>book_name</th>\n",
       "      <th>count</th>\n",
       "      <th>title</th>\n",
       "      <th>verses</th>\n",
       "      <th>verse_number</th>\n",
       "      <th>label</th>\n",
       "      <th>poet</th>\n",
       "    </tr>\n",
       "  </thead>\n",
       "  <tbody>\n",
       "    <tr>\n",
       "      <th>0</th>\n",
       "      <td>1</td>\n",
       "      <td>غزلیات</td>\n",
       "      <td>1</td>\n",
       "      <td>غزل شمارهٔ ۱</td>\n",
       "      <td>آیینه بر خاک زد صنع یکتا / تا وانمودند کیفیت م...</td>\n",
       "      <td>14</td>\n",
       "      <td>ghazal</td>\n",
       "      <td>bidel</td>\n",
       "    </tr>\n",
       "    <tr>\n",
       "      <th>1</th>\n",
       "      <td>2</td>\n",
       "      <td>غزلیات</td>\n",
       "      <td>2</td>\n",
       "      <td>غزل شمارهٔ ۲</td>\n",
       "      <td>اگر به‌گلشن ز نازگردد قد بلند تو جلوه فرما / ز...</td>\n",
       "      <td>12</td>\n",
       "      <td>ghazal</td>\n",
       "      <td>bidel</td>\n",
       "    </tr>\n",
       "    <tr>\n",
       "      <th>2</th>\n",
       "      <td>3</td>\n",
       "      <td>غزلیات</td>\n",
       "      <td>3</td>\n",
       "      <td>غزل شمارهٔ ۳</td>\n",
       "      <td>ای خیال قامتت آه ضعیفان را عصا / بر رخت نظاره‌...</td>\n",
       "      <td>14</td>\n",
       "      <td>ghazal</td>\n",
       "      <td>bidel</td>\n",
       "    </tr>\n",
       "    <tr>\n",
       "      <th>3</th>\n",
       "      <td>4</td>\n",
       "      <td>غزلیات</td>\n",
       "      <td>4</td>\n",
       "      <td>غزل شمارهٔ ۴</td>\n",
       "      <td>او سپهر و من‌کف خاک اوکجا و من‌کجا / داغم از س...</td>\n",
       "      <td>12</td>\n",
       "      <td>ghazal</td>\n",
       "      <td>bidel</td>\n",
       "    </tr>\n",
       "    <tr>\n",
       "      <th>4</th>\n",
       "      <td>5</td>\n",
       "      <td>غزلیات</td>\n",
       "      <td>5</td>\n",
       "      <td>غزل شمارهٔ ۵</td>\n",
       "      <td>کرده‌ام باز به آن گریهٔ سودا، سودا / که ز هر ا...</td>\n",
       "      <td>10</td>\n",
       "      <td>ghazal</td>\n",
       "      <td>bidel</td>\n",
       "    </tr>\n",
       "    <tr>\n",
       "      <th>...</th>\n",
       "      <td>...</td>\n",
       "      <td>...</td>\n",
       "      <td>...</td>\n",
       "      <td>...</td>\n",
       "      <td>...</td>\n",
       "      <td>...</td>\n",
       "      <td>...</td>\n",
       "      <td>...</td>\n",
       "    </tr>\n",
       "    <tr>\n",
       "      <th>2823</th>\n",
       "      <td>2824</td>\n",
       "      <td>غزلیات</td>\n",
       "      <td>2824</td>\n",
       "      <td>غزل شمارهٔ ۲۸۲۴</td>\n",
       "      <td>تمثال خیالیم چه زشتی چه نکویی / ای آینه بر ما ...</td>\n",
       "      <td>17</td>\n",
       "      <td>ghazal</td>\n",
       "      <td>bidel</td>\n",
       "    </tr>\n",
       "    <tr>\n",
       "      <th>2824</th>\n",
       "      <td>2825</td>\n",
       "      <td>غزلیات</td>\n",
       "      <td>2825</td>\n",
       "      <td>غزل شمارهٔ ۲۸۲۵</td>\n",
       "      <td>محو بودم هر چه دیدم دوش دانستم تویی / گر همه م...</td>\n",
       "      <td>7</td>\n",
       "      <td>ghazal</td>\n",
       "      <td>bidel</td>\n",
       "    </tr>\n",
       "    <tr>\n",
       "      <th>2825</th>\n",
       "      <td>2826</td>\n",
       "      <td>غزلیات</td>\n",
       "      <td>2826</td>\n",
       "      <td>غزل شمارهٔ ۲۸۲۶</td>\n",
       "      <td>به عجز کوش ز نشو و نما چه می‌جویی / به خاک ریش...</td>\n",
       "      <td>10</td>\n",
       "      <td>ghazal</td>\n",
       "      <td>bidel</td>\n",
       "    </tr>\n",
       "    <tr>\n",
       "      <th>2826</th>\n",
       "      <td>2827</td>\n",
       "      <td>غزلیات</td>\n",
       "      <td>2827</td>\n",
       "      <td>غزل شمارهٔ ۲۸۲۷</td>\n",
       "      <td>چو محو عشق شدی رهنما چه می‌جویی / به بحر غوطه ...</td>\n",
       "      <td>11</td>\n",
       "      <td>ghazal</td>\n",
       "      <td>bidel</td>\n",
       "    </tr>\n",
       "    <tr>\n",
       "      <th>2827</th>\n",
       "      <td>2828</td>\n",
       "      <td>ترجیعات</td>\n",
       "      <td>1</td>\n",
       "      <td>ترجیع‌بند</td>\n",
       "      <td>جوشِ بحرِ محیطِ لاهوتیم / فیضِ صبحِ جهانِ انوا...</td>\n",
       "      <td>679</td>\n",
       "      <td>tarjee</td>\n",
       "      <td>bidel</td>\n",
       "    </tr>\n",
       "  </tbody>\n",
       "</table>\n",
       "<p>2828 rows × 8 columns</p>\n",
       "</div>"
      ],
      "text/plain": [
       "      poem_id book_name  count            title  \\\n",
       "0           1    غزلیات      1     غزل شمارهٔ ۱   \n",
       "1           2    غزلیات      2     غزل شمارهٔ ۲   \n",
       "2           3    غزلیات      3     غزل شمارهٔ ۳   \n",
       "3           4    غزلیات      4     غزل شمارهٔ ۴   \n",
       "4           5    غزلیات      5     غزل شمارهٔ ۵   \n",
       "...       ...       ...    ...              ...   \n",
       "2823     2824    غزلیات   2824  غزل شمارهٔ ۲۸۲۴   \n",
       "2824     2825    غزلیات   2825  غزل شمارهٔ ۲۸۲۵   \n",
       "2825     2826    غزلیات   2826  غزل شمارهٔ ۲۸۲۶   \n",
       "2826     2827    غزلیات   2827  غزل شمارهٔ ۲۸۲۷   \n",
       "2827     2828   ترجیعات      1        ترجیع‌بند   \n",
       "\n",
       "                                                 verses  verse_number   label  \\\n",
       "0     آیینه بر خاک زد صنع یکتا / تا وانمودند کیفیت م...            14  ghazal   \n",
       "1     اگر به‌گلشن ز نازگردد قد بلند تو جلوه فرما / ز...            12  ghazal   \n",
       "2     ای خیال قامتت آه ضعیفان را عصا / بر رخت نظاره‌...            14  ghazal   \n",
       "3     او سپهر و من‌کف خاک اوکجا و من‌کجا / داغم از س...            12  ghazal   \n",
       "4     کرده‌ام باز به آن گریهٔ سودا، سودا / که ز هر ا...            10  ghazal   \n",
       "...                                                 ...           ...     ...   \n",
       "2823  تمثال خیالیم چه زشتی چه نکویی / ای آینه بر ما ...            17  ghazal   \n",
       "2824  محو بودم هر چه دیدم دوش دانستم تویی / گر همه م...             7  ghazal   \n",
       "2825  به عجز کوش ز نشو و نما چه می‌جویی / به خاک ریش...            10  ghazal   \n",
       "2826  چو محو عشق شدی رهنما چه می‌جویی / به بحر غوطه ...            11  ghazal   \n",
       "2827  جوشِ بحرِ محیطِ لاهوتیم / فیضِ صبحِ جهانِ انوا...           679  tarjee   \n",
       "\n",
       "       poet  \n",
       "0     bidel  \n",
       "1     bidel  \n",
       "2     bidel  \n",
       "3     bidel  \n",
       "4     bidel  \n",
       "...     ...  \n",
       "2823  bidel  \n",
       "2824  bidel  \n",
       "2825  bidel  \n",
       "2826  bidel  \n",
       "2827  bidel  \n",
       "\n",
       "[2828 rows x 8 columns]"
      ]
     },
     "execution_count": 4,
     "metadata": {},
     "output_type": "execute_result"
    }
   ],
   "source": [
    "bidel"
   ]
  },
  {
   "cell_type": "code",
   "execution_count": 5,
   "id": "68d38a8c-c581-479b-a004-a49934e0f123",
   "metadata": {},
   "outputs": [
    {
     "data": {
      "text/plain": [
       "poem_id         0\n",
       "book_name       0\n",
       "count           0\n",
       "title           0\n",
       "verses          0\n",
       "verse_number    0\n",
       "label           0\n",
       "poet            0\n",
       "dtype: int64"
      ]
     },
     "execution_count": 5,
     "metadata": {},
     "output_type": "execute_result"
    }
   ],
   "source": [
    "bidel.isna().sum()"
   ]
  },
  {
   "cell_type": "code",
   "execution_count": 6,
   "id": "6e21c573-a0dc-4371-94a1-f3e44586abd6",
   "metadata": {},
   "outputs": [
    {
     "data": {
      "text/plain": [
       "poem_id          int64\n",
       "book_name       object\n",
       "count            int64\n",
       "title           object\n",
       "verses          object\n",
       "verse_number     int64\n",
       "label           object\n",
       "poet            object\n",
       "dtype: object"
      ]
     },
     "execution_count": 6,
     "metadata": {},
     "output_type": "execute_result"
    }
   ],
   "source": [
    "bidel.dtypes"
   ]
  },
  {
   "cell_type": "code",
   "execution_count": 7,
   "id": "e2f4f500-3470-405a-8561-9005106604af",
   "metadata": {},
   "outputs": [
    {
     "data": {
      "text/plain": [
       "poem_id          int64\n",
       "book_name       object\n",
       "count            int64\n",
       "title           object\n",
       "verses          object\n",
       "verse_number     int64\n",
       "label           object\n",
       "poet            object\n",
       "dtype: object"
      ]
     },
     "execution_count": 7,
     "metadata": {},
     "output_type": "execute_result"
    }
   ],
   "source": [
    "bidel.dtypes"
   ]
  },
  {
   "cell_type": "code",
   "execution_count": 7,
   "id": "67293329-0379-418a-82e0-d8433778ac56",
   "metadata": {},
   "outputs": [],
   "source": [
    "pd.set_option('display.max_colwidth', None)"
   ]
  },
  {
   "cell_type": "code",
   "execution_count": 8,
   "id": "5da0d45d-f33c-48f0-8da2-e98fd7c0d8d8",
   "metadata": {},
   "outputs": [
    {
     "data": {
      "text/plain": [
       "poem_id          int64\n",
       "book_name       object\n",
       "count            int64\n",
       "title           object\n",
       "verses          object\n",
       "verse_number     int64\n",
       "label           object\n",
       "poet            object\n",
       "dtype: object"
      ]
     },
     "execution_count": 8,
     "metadata": {},
     "output_type": "execute_result"
    }
   ],
   "source": [
    "bidel.dtypes"
   ]
  },
  {
   "cell_type": "code",
   "execution_count": 9,
   "id": "01df3093-7857-4da5-8cb7-a135e3d3c1e9",
   "metadata": {},
   "outputs": [
    {
     "data": {
      "text/plain": [
       "2828"
      ]
     },
     "execution_count": 9,
     "metadata": {},
     "output_type": "execute_result"
    }
   ],
   "source": [
    "len(bidel['verses'])"
   ]
  },
  {
   "cell_type": "code",
   "execution_count": 12,
   "id": "268c889b-cf46-4e41-95ef-afe9b298a941",
   "metadata": {},
   "outputs": [],
   "source": [
    "verse = bidel['verses'][1]"
   ]
  },
  {
   "cell_type": "code",
   "execution_count": 13,
   "id": "7fe5ca44-d93f-4299-a302-05c0c3e3e44b",
   "metadata": {},
   "outputs": [
    {
     "data": {
      "text/plain": [
       "'اگر به\\u200cگلشن ز نازگردد قد بلند تو جلوه فرما / ز پیکرسر وموج خجلت\\u200cشود نمایان چو می ز مینا\\n ز چشم مستت اگر بیابد قبول\\u200cکیفیت نگاهی / تپدزمستی\\u200cبه روی\\u200cآیینه\\u200cنقش جوهرچوموج صهبا\\n نخواند طفل جنون مزاجم خطی زپست وبلند هستی / شوم فلاطون ملک\\u200c!دانش اگر شناسم سر ازکف پا\\n به هیچ صورت زدورگردون نصیب مانیست سربلندی / زبعد مردن مگر نسیمی غبار ما را برد به بالا\\n نه شام ما را سحرنویدی نه صبح ما راگل سفیدی / چو حاصل ماست ناامیدی غبار دنیا به فرق عقبا\\n رمیدی از دیده بی\\u200cتأمل\\u200cگذشتی آخر به صد تغافل / اگر ندیدی تپیدن دل شنیدنی داشت نالهٔ ما\\n ز صفحهٔ راز این دبستان ز نسخهٔ رنگ این\\u200cگلستان / نگشت نقش دگر نمایان مگر غباری به بال عنقا\\n به\\u200cاولین جلوه\\u200cات ز دلها رمیده صبر وگداخت طاقت / کجاست آیینه تا بگیرد غبار حیرت درین تماشا\\n به دورپیمانهٔ نگاهت اگر زند لاف می فروشی / نفس به رنگ\\u200cکمند پیچد زموج می درگلوی مینا\\n به\\u200cبوی ریحان مشکبارت به\\u200cخویش پیچیده\\u200cام چوسنبل / ز هررگ برگ\\u200cگل ندارم چو طایررنگ رشته برپا \\nبه هرکجا ناز سر برآرد نیاز هم پای\\u200cکم ندارد / توو خرامی و صد تغافل\\u200c، من و نگاهی و صد تمنا \\nز غنچهٔ او دمید بیدل بهار خط نظر فریبی /  به معجز حسن\\u200cگشت آخر رک زمرد ز لعل پیدا\\n'"
      ]
     },
     "execution_count": 13,
     "metadata": {},
     "output_type": "execute_result"
    }
   ],
   "source": [
    "verse"
   ]
  },
  {
   "cell_type": "code",
   "execution_count": 14,
   "id": "1ea30a3b-2155-462f-aee9-990ca3e1a35a",
   "metadata": {},
   "outputs": [
    {
     "name": "stdout",
     "output_type": "stream",
     "text": [
      "اگر به‌گلشن ز نازگردد قد بلند تو جلوه فرما / ز پیکرسر وموج خجلت‌شود نمایان چو می ز مینا\n",
      " ز چشم مستت اگر بیابد قبول‌کیفیت نگاهی / تپدزمستی‌به روی‌آیینه‌نقش جوهرچوموج صهبا\n",
      " نخواند طفل جنون مزاجم خطی زپست وبلند هستی / شوم فلاطون ملک‌!دانش اگر شناسم سر ازکف پا\n",
      " به هیچ صورت زدورگردون نصیب مانیست سربلندی / زبعد مردن مگر نسیمی غبار ما را برد به بالا\n",
      " نه شام ما را سحرنویدی نه صبح ما راگل سفیدی / چو حاصل ماست ناامیدی غبار دنیا به فرق عقبا\n",
      " رمیدی از دیده بی‌تأمل‌گذشتی آخر به صد تغافل / اگر ندیدی تپیدن دل شنیدنی داشت نالهٔ ما\n",
      " ز صفحهٔ راز این دبستان ز نسخهٔ رنگ این‌گلستان / نگشت نقش دگر نمایان مگر غباری به بال عنقا\n",
      " به‌اولین جلوه‌ات ز دلها رمیده صبر وگداخت طاقت / کجاست آیینه تا بگیرد غبار حیرت درین تماشا\n",
      " به دورپیمانهٔ نگاهت اگر زند لاف می فروشی / نفس به رنگ‌کمند پیچد زموج می درگلوی مینا\n",
      " به‌بوی ریحان مشکبارت به‌خویش پیچیده‌ام چوسنبل / ز هررگ برگ‌گل ندارم چو طایررنگ رشته برپا \n",
      "به هرکجا ناز سر برآرد نیاز هم پای‌کم ندارد / توو خرامی و صد تغافل‌، من و نگاهی و صد تمنا \n",
      "ز غنچهٔ او دمید بیدل بهار خط نظر فریبی /  به معجز حسن‌گشت آخر رک زمرد ز لعل پیدا\n",
      "\n"
     ]
    }
   ],
   "source": [
    "print(verse)"
   ]
  },
  {
   "cell_type": "code",
   "execution_count": null,
   "id": "78d9e5ee-52b2-4ad6-b75b-aa29ad2f8004",
   "metadata": {},
   "outputs": [],
   "source": []
  },
  {
   "cell_type": "code",
   "execution_count": null,
   "id": "b06c3f22-8a22-454c-9dd7-779721880036",
   "metadata": {},
   "outputs": [],
   "source": []
  }
 ],
 "metadata": {
  "kernelspec": {
   "display_name": "Python 3 (ipykernel)",
   "language": "python",
   "name": "python3"
  },
  "language_info": {
   "codemirror_mode": {
    "name": "ipython",
    "version": 3
   },
   "file_extension": ".py",
   "mimetype": "text/x-python",
   "name": "python",
   "nbconvert_exporter": "python",
   "pygments_lexer": "ipython3",
   "version": "3.12.5"
  }
 },
 "nbformat": 4,
 "nbformat_minor": 5
}
