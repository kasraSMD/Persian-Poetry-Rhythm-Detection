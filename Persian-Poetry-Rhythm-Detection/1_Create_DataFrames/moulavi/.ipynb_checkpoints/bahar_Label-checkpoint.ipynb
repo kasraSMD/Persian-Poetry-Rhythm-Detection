{
 "cells": [
  {
   "cell_type": "code",
   "execution_count": 1,
   "id": "af73be62-3911-4536-91ed-4f880cf22004",
   "metadata": {},
   "outputs": [],
   "source": [
    "import pandas as pd"
   ]
  },
  {
   "cell_type": "code",
   "execution_count": 4,
   "id": "854af468-46e2-48ad-b610-6c87cfe6a077",
   "metadata": {},
   "outputs": [],
   "source": [
    "bahar = pd.read_csv(\"bahar.csv\", encoding='utf-8')"
   ]
  },
  {
   "cell_type": "code",
   "execution_count": 5,
   "id": "8867bca5-ca55-435d-8212-7d2379757bdf",
   "metadata": {},
   "outputs": [
    {
     "data": {
      "text/html": [
       "<div>\n",
       "<style scoped>\n",
       "    .dataframe tbody tr th:only-of-type {\n",
       "        vertical-align: middle;\n",
       "    }\n",
       "\n",
       "    .dataframe tbody tr th {\n",
       "        vertical-align: top;\n",
       "    }\n",
       "\n",
       "    .dataframe thead th {\n",
       "        text-align: right;\n",
       "    }\n",
       "</style>\n",
       "<table border=\"1\" class=\"dataframe\">\n",
       "  <thead>\n",
       "    <tr style=\"text-align: right;\">\n",
       "      <th></th>\n",
       "      <th>poem_id</th>\n",
       "      <th>book_name</th>\n",
       "      <th>count</th>\n",
       "      <th>title</th>\n",
       "      <th>verses</th>\n",
       "      <th>verse_number</th>\n",
       "      <th>label</th>\n",
       "      <th>poet</th>\n",
       "    </tr>\n",
       "  </thead>\n",
       "  <tbody>\n",
       "    <tr>\n",
       "      <th>0</th>\n",
       "      <td>1</td>\n",
       "      <td>چهارپاره‌ها</td>\n",
       "      <td>1</td>\n",
       "      <td>چهارپاره‌ها\\nافکار پریشان</td>\n",
       "      <td>از بر این کرهٔ پست حقیر / زیر این قبهٔ مینای ب...</td>\n",
       "      <td>22</td>\n",
       "      <td>charpare</td>\n",
       "      <td>bahar</td>\n",
       "    </tr>\n",
       "    <tr>\n",
       "      <th>1</th>\n",
       "      <td>2</td>\n",
       "      <td>چهارپاره‌ها</td>\n",
       "      <td>2</td>\n",
       "      <td>چهارپاره‌ها\\nسرود کبوتر</td>\n",
       "      <td>بیایید ای کبوترهای دلخواه / سحر گاهان که این م...</td>\n",
       "      <td>20</td>\n",
       "      <td>charpare</td>\n",
       "      <td>bahar</td>\n",
       "    </tr>\n",
       "    <tr>\n",
       "      <th>2</th>\n",
       "      <td>3</td>\n",
       "      <td>چهارپاره‌ها</td>\n",
       "      <td>3</td>\n",
       "      <td>چهارپاره‌ها\\nخمسه‌ مسترقه</td>\n",
       "      <td>سیصد و شصت و پنج‌ و ربعی روز / مدت سال بود و ه...</td>\n",
       "      <td>38</td>\n",
       "      <td>charpare</td>\n",
       "      <td>bahar</td>\n",
       "    </tr>\n",
       "    <tr>\n",
       "      <th>3</th>\n",
       "      <td>4</td>\n",
       "      <td>چهارپاره‌ها</td>\n",
       "      <td>4</td>\n",
       "      <td>چهارپاره‌ها\\nکسری و دهقان</td>\n",
       "      <td>شاه انوشیروان به موسم دی / رفت بیرون ز شهر بهر...</td>\n",
       "      <td>26</td>\n",
       "      <td>charpare</td>\n",
       "      <td>bahar</td>\n",
       "    </tr>\n",
       "    <tr>\n",
       "      <th>4</th>\n",
       "      <td>5</td>\n",
       "      <td>چهارپاره‌ها</td>\n",
       "      <td>5</td>\n",
       "      <td>چهارپاره‌ها\\nمرغ شباهنگ</td>\n",
       "      <td>برشو ای رایت روز از در شرق / بشکف ای غنچهٔ صبح...</td>\n",
       "      <td>96</td>\n",
       "      <td>charpare</td>\n",
       "      <td>bahar</td>\n",
       "    </tr>\n",
       "    <tr>\n",
       "      <th>...</th>\n",
       "      <td>...</td>\n",
       "      <td>...</td>\n",
       "      <td>...</td>\n",
       "      <td>...</td>\n",
       "      <td>...</td>\n",
       "      <td>...</td>\n",
       "      <td>...</td>\n",
       "      <td>...</td>\n",
       "    </tr>\n",
       "    <tr>\n",
       "      <th>1074</th>\n",
       "      <td>1075</td>\n",
       "      <td>تصنیف‌ها</td>\n",
       "      <td>13</td>\n",
       "      <td>در دستگاه ماهور</td>\n",
       "      <td>ز فروردین شد شکفته چمن / گل نوشد زیب دشت و دمن...</td>\n",
       "      <td>10</td>\n",
       "      <td>NaN</td>\n",
       "      <td>bahar</td>\n",
       "    </tr>\n",
       "    <tr>\n",
       "      <th>1075</th>\n",
       "      <td>1076</td>\n",
       "      <td>تصنیف‌ها</td>\n",
       "      <td>14</td>\n",
       "      <td>ای ایرانی (در دستگاه دشتی)</td>\n",
       "      <td>آخر ای ایرانی! / تا به کی نادانی\\nبر اروپا بنگ...</td>\n",
       "      <td>7</td>\n",
       "      <td>NaN</td>\n",
       "      <td>bahar</td>\n",
       "    </tr>\n",
       "    <tr>\n",
       "      <th>1076</th>\n",
       "      <td>1077</td>\n",
       "      <td>تصنیف‌ها</td>\n",
       "      <td>15</td>\n",
       "      <td>زن با هنر (سه‌گاه‌)</td>\n",
       "      <td>به دل جز غم آن قمر ندارم / خوشم ز آنکه غم دگر ...</td>\n",
       "      <td>18</td>\n",
       "      <td>NaN</td>\n",
       "      <td>bahar</td>\n",
       "    </tr>\n",
       "    <tr>\n",
       "      <th>1077</th>\n",
       "      <td>1078</td>\n",
       "      <td>تصنیف‌ها</td>\n",
       "      <td>16</td>\n",
       "      <td>غزل ضربی (در ماهور)</td>\n",
       "      <td>ز من نگارم خبر ندارد / به حال زارم نظر ندارد\\n...</td>\n",
       "      <td>8</td>\n",
       "      <td>NaN</td>\n",
       "      <td>bahar</td>\n",
       "    </tr>\n",
       "    <tr>\n",
       "      <th>1078</th>\n",
       "      <td>1079</td>\n",
       "      <td>تصنیف‌ها</td>\n",
       "      <td>17</td>\n",
       "      <td>بیات اصفهان</td>\n",
       "      <td>به اصفهان رو که تا بنگری بهشت ثانی / به زنده‌ر...</td>\n",
       "      <td>7</td>\n",
       "      <td>NaN</td>\n",
       "      <td>bahar</td>\n",
       "    </tr>\n",
       "  </tbody>\n",
       "</table>\n",
       "<p>1079 rows × 8 columns</p>\n",
       "</div>"
      ],
      "text/plain": [
       "      poem_id    book_name  count                       title  \\\n",
       "0           1  چهارپاره‌ها      1   چهارپاره‌ها\\nافکار پریشان   \n",
       "1           2  چهارپاره‌ها      2     چهارپاره‌ها\\nسرود کبوتر   \n",
       "2           3  چهارپاره‌ها      3   چهارپاره‌ها\\nخمسه‌ مسترقه   \n",
       "3           4  چهارپاره‌ها      4   چهارپاره‌ها\\nکسری و دهقان   \n",
       "4           5  چهارپاره‌ها      5     چهارپاره‌ها\\nمرغ شباهنگ   \n",
       "...       ...          ...    ...                         ...   \n",
       "1074     1075     تصنیف‌ها     13             در دستگاه ماهور   \n",
       "1075     1076     تصنیف‌ها     14  ای ایرانی (در دستگاه دشتی)   \n",
       "1076     1077     تصنیف‌ها     15         زن با هنر (سه‌گاه‌)   \n",
       "1077     1078     تصنیف‌ها     16         غزل ضربی (در ماهور)   \n",
       "1078     1079     تصنیف‌ها     17                 بیات اصفهان   \n",
       "\n",
       "                                                 verses  verse_number  \\\n",
       "0     از بر این کرهٔ پست حقیر / زیر این قبهٔ مینای ب...            22   \n",
       "1     بیایید ای کبوترهای دلخواه / سحر گاهان که این م...            20   \n",
       "2     سیصد و شصت و پنج‌ و ربعی روز / مدت سال بود و ه...            38   \n",
       "3     شاه انوشیروان به موسم دی / رفت بیرون ز شهر بهر...            26   \n",
       "4     برشو ای رایت روز از در شرق / بشکف ای غنچهٔ صبح...            96   \n",
       "...                                                 ...           ...   \n",
       "1074  ز فروردین شد شکفته چمن / گل نوشد زیب دشت و دمن...            10   \n",
       "1075  آخر ای ایرانی! / تا به کی نادانی\\nبر اروپا بنگ...             7   \n",
       "1076  به دل جز غم آن قمر ندارم / خوشم ز آنکه غم دگر ...            18   \n",
       "1077  ز من نگارم خبر ندارد / به حال زارم نظر ندارد\\n...             8   \n",
       "1078  به اصفهان رو که تا بنگری بهشت ثانی / به زنده‌ر...             7   \n",
       "\n",
       "         label   poet  \n",
       "0     charpare  bahar  \n",
       "1     charpare  bahar  \n",
       "2     charpare  bahar  \n",
       "3     charpare  bahar  \n",
       "4     charpare  bahar  \n",
       "...        ...    ...  \n",
       "1074       NaN  bahar  \n",
       "1075       NaN  bahar  \n",
       "1076       NaN  bahar  \n",
       "1077       NaN  bahar  \n",
       "1078       NaN  bahar  \n",
       "\n",
       "[1079 rows x 8 columns]"
      ]
     },
     "execution_count": 5,
     "metadata": {},
     "output_type": "execute_result"
    }
   ],
   "source": [
    "bahar"
   ]
  },
  {
   "cell_type": "code",
   "execution_count": 4,
   "id": "68d38a8c-c581-479b-a004-a49934e0f123",
   "metadata": {},
   "outputs": [
    {
     "data": {
      "text/plain": [
       "poem_id           0\n",
       "book_name         0\n",
       "count             0\n",
       "title             0\n",
       "verses            0\n",
       "verse_number      0\n",
       "label           553\n",
       "poet              0\n",
       "dtype: int64"
      ]
     },
     "execution_count": 4,
     "metadata": {},
     "output_type": "execute_result"
    }
   ],
   "source": [
    "saadi.isna().sum()"
   ]
  },
  {
   "cell_type": "code",
   "execution_count": 5,
   "id": "6e21c573-a0dc-4371-94a1-f3e44586abd6",
   "metadata": {},
   "outputs": [
    {
     "data": {
      "text/plain": [
       "poem_id          int64\n",
       "book_name       object\n",
       "count            int64\n",
       "title           object\n",
       "verses          object\n",
       "verse_number     int64\n",
       "label           object\n",
       "poet            object\n",
       "dtype: object"
      ]
     },
     "execution_count": 5,
     "metadata": {},
     "output_type": "execute_result"
    }
   ],
   "source": [
    "saadi.dtypes"
   ]
  },
  {
   "cell_type": "code",
   "execution_count": 6,
   "id": "e2f4f500-3470-405a-8561-9005106604af",
   "metadata": {},
   "outputs": [
    {
     "data": {
      "text/plain": [
       "poem_id          int64\n",
       "book_name       object\n",
       "count            int64\n",
       "title           object\n",
       "verses          object\n",
       "verse_number     int64\n",
       "label           object\n",
       "poet            object\n",
       "dtype: object"
      ]
     },
     "execution_count": 6,
     "metadata": {},
     "output_type": "execute_result"
    }
   ],
   "source": [
    "bahar.dtypes"
   ]
  },
  {
   "cell_type": "code",
   "execution_count": 7,
   "id": "67293329-0379-418a-82e0-d8433778ac56",
   "metadata": {},
   "outputs": [],
   "source": [
    "pd.set_option('display.max_colwidth', None)"
   ]
  },
  {
   "cell_type": "code",
   "execution_count": 7,
   "id": "5da0d45d-f33c-48f0-8da2-e98fd7c0d8d8",
   "metadata": {},
   "outputs": [
    {
     "data": {
      "text/plain": [
       "poem_id          int64\n",
       "book_name       object\n",
       "count            int64\n",
       "title           object\n",
       "verses          object\n",
       "verse_number     int64\n",
       "label           object\n",
       "poet            object\n",
       "dtype: object"
      ]
     },
     "execution_count": 7,
     "metadata": {},
     "output_type": "execute_result"
    }
   ],
   "source": [
    "bahar.dtypes"
   ]
  },
  {
   "cell_type": "code",
   "execution_count": 8,
   "id": "01df3093-7857-4da5-8cb7-a135e3d3c1e9",
   "metadata": {},
   "outputs": [
    {
     "data": {
      "text/plain": [
       "1079"
      ]
     },
     "execution_count": 8,
     "metadata": {},
     "output_type": "execute_result"
    }
   ],
   "source": [
    "len(bahar['verses'])"
   ]
  },
  {
   "cell_type": "code",
   "execution_count": 9,
   "id": "268c889b-cf46-4e41-95ef-afe9b298a941",
   "metadata": {},
   "outputs": [],
   "source": [
    "verse = bahar['verses'][1]"
   ]
  },
  {
   "cell_type": "code",
   "execution_count": 10,
   "id": "7fe5ca44-d93f-4299-a302-05c0c3e3e44b",
   "metadata": {},
   "outputs": [
    {
     "data": {
      "text/plain": [
       "'بیایید ای کبوترهای دلخواه / سحر گاهان که این مرغ طلایی\\nبپرید از فراز بام و ناگاه / ببینمتان به قصد خودنمایی\\nبدن کافورگون پاها چو شنگرف / فشاند پر ز روی برج خاور\\nبه گرد من فرود آیید چون برف / کشیده سر ز پشت شیشهٔ در\\nفرو خوانده سرود بی گناهی / کشیده عاشقانه بر زمین دم\\nبه گوشم\\u200c، با نسیم صبحگاهی / نوید عشق آید زان ترنم\\nسحرگه سرکنید آرام آرام / نواهای لطیف آسمانی\\nسوی عشاق بفرستید پیغام / دمادم با زبان بی\\u200cزبانی\\nمهیا ای عروسان نو آیین / که بگشایم در آن آشیان من\\nخروش بال\\u200cهاتان اندر آن حین / رود از خانه سوی کوی و برزن\\nشود گوبی در از خلد برین باز / چو من بر رویتان بگشایم اندر\\nکنید افرشته\\u200cوش یکباره پرواز / به گردون دوخته \\u200cپر، یک به دیگر\\nشوند افرشتگان از چرخ نازل / به\\u200c زعم مردمان باستانی\\nشما افرشتگان از سطح منزل / بگیرید اوج و گردید آسمانی\\nنیاید از شما در هیچ حالی / وگر مانید بس بی \\u200cآب و دانه\\nنه فریادی و نه قیلی و قالی / بجز دلکش سرود عاشقانه\\nفرود آیید ای یاران از آن بام / کف \\u200cاندر کف زنان و رقص رقصان\\nنشینید از برّ این سطح آرام / که\\u200c اینجا نیست جز من هیچ انسان\\nبیایید ای رفیقان وفادار / من اینجا بهرتان افشانم ارزن\\nکه دیدار شما بهر من زار / به است از دیدن مردان برزن\\n'"
      ]
     },
     "execution_count": 10,
     "metadata": {},
     "output_type": "execute_result"
    }
   ],
   "source": [
    "verse"
   ]
  },
  {
   "cell_type": "code",
   "execution_count": 11,
   "id": "1ea30a3b-2155-462f-aee9-990ca3e1a35a",
   "metadata": {},
   "outputs": [
    {
     "name": "stdout",
     "output_type": "stream",
     "text": [
      "بیایید ای کبوترهای دلخواه / سحر گاهان که این مرغ طلایی\n",
      "بپرید از فراز بام و ناگاه / ببینمتان به قصد خودنمایی\n",
      "بدن کافورگون پاها چو شنگرف / فشاند پر ز روی برج خاور\n",
      "به گرد من فرود آیید چون برف / کشیده سر ز پشت شیشهٔ در\n",
      "فرو خوانده سرود بی گناهی / کشیده عاشقانه بر زمین دم\n",
      "به گوشم‌، با نسیم صبحگاهی / نوید عشق آید زان ترنم\n",
      "سحرگه سرکنید آرام آرام / نواهای لطیف آسمانی\n",
      "سوی عشاق بفرستید پیغام / دمادم با زبان بی‌زبانی\n",
      "مهیا ای عروسان نو آیین / که بگشایم در آن آشیان من\n",
      "خروش بال‌هاتان اندر آن حین / رود از خانه سوی کوی و برزن\n",
      "شود گوبی در از خلد برین باز / چو من بر رویتان بگشایم اندر\n",
      "کنید افرشته‌وش یکباره پرواز / به گردون دوخته ‌پر، یک به دیگر\n",
      "شوند افرشتگان از چرخ نازل / به‌ زعم مردمان باستانی\n",
      "شما افرشتگان از سطح منزل / بگیرید اوج و گردید آسمانی\n",
      "نیاید از شما در هیچ حالی / وگر مانید بس بی ‌آب و دانه\n",
      "نه فریادی و نه قیلی و قالی / بجز دلکش سرود عاشقانه\n",
      "فرود آیید ای یاران از آن بام / کف ‌اندر کف زنان و رقص رقصان\n",
      "نشینید از برّ این سطح آرام / که‌ اینجا نیست جز من هیچ انسان\n",
      "بیایید ای رفیقان وفادار / من اینجا بهرتان افشانم ارزن\n",
      "که دیدار شما بهر من زار / به است از دیدن مردان برزن\n",
      "\n"
     ]
    }
   ],
   "source": [
    "print(verse)"
   ]
  },
  {
   "cell_type": "code",
   "execution_count": null,
   "id": "78d9e5ee-52b2-4ad6-b75b-aa29ad2f8004",
   "metadata": {},
   "outputs": [],
   "source": []
  },
  {
   "cell_type": "code",
   "execution_count": null,
   "id": "b06c3f22-8a22-454c-9dd7-779721880036",
   "metadata": {},
   "outputs": [],
   "source": []
  }
 ],
 "metadata": {
  "kernelspec": {
   "display_name": "Python 3 (ipykernel)",
   "language": "python",
   "name": "python3"
  },
  "language_info": {
   "codemirror_mode": {
    "name": "ipython",
    "version": 3
   },
   "file_extension": ".py",
   "mimetype": "text/x-python",
   "name": "python",
   "nbconvert_exporter": "python",
   "pygments_lexer": "ipython3",
   "version": "3.12.5"
  }
 },
 "nbformat": 4,
 "nbformat_minor": 5
}
