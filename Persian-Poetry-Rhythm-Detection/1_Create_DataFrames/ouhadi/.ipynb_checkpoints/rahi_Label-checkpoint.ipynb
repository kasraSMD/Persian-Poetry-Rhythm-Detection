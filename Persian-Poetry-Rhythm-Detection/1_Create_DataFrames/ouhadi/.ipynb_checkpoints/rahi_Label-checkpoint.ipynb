{
 "cells": [
  {
   "cell_type": "code",
   "execution_count": 1,
   "id": "af73be62-3911-4536-91ed-4f880cf22004",
   "metadata": {},
   "outputs": [],
   "source": [
    "import pandas as pd"
   ]
  },
  {
   "cell_type": "code",
   "execution_count": 2,
   "id": "854af468-46e2-48ad-b610-6c87cfe6a077",
   "metadata": {},
   "outputs": [],
   "source": [
    "rahi = pd.read_csv(\"rahi.csv\", encoding='utf-8')"
   ]
  },
  {
   "cell_type": "code",
   "execution_count": 3,
   "id": "8867bca5-ca55-435d-8212-7d2379757bdf",
   "metadata": {},
   "outputs": [
    {
     "data": {
      "text/html": [
       "<div>\n",
       "<style scoped>\n",
       "    .dataframe tbody tr th:only-of-type {\n",
       "        vertical-align: middle;\n",
       "    }\n",
       "\n",
       "    .dataframe tbody tr th {\n",
       "        vertical-align: top;\n",
       "    }\n",
       "\n",
       "    .dataframe thead th {\n",
       "        text-align: right;\n",
       "    }\n",
       "</style>\n",
       "<table border=\"1\" class=\"dataframe\">\n",
       "  <thead>\n",
       "    <tr style=\"text-align: right;\">\n",
       "      <th></th>\n",
       "      <th>poem_id</th>\n",
       "      <th>book_name</th>\n",
       "      <th>count</th>\n",
       "      <th>title</th>\n",
       "      <th>verses</th>\n",
       "      <th>verse_number</th>\n",
       "      <th>label</th>\n",
       "      <th>poet</th>\n",
       "    </tr>\n",
       "  </thead>\n",
       "  <tbody>\n",
       "    <tr>\n",
       "      <th>0</th>\n",
       "      <td>1</td>\n",
       "      <td>ابیات پراکنده</td>\n",
       "      <td>1</td>\n",
       "      <td>باید خریدارم شوی</td>\n",
       "      <td>باید خریدارم شوی تا من خریدارت شوم / وزجان و د...</td>\n",
       "      <td>2</td>\n",
       "      <td>NaN</td>\n",
       "      <td>rahi</td>\n",
       "    </tr>\n",
       "    <tr>\n",
       "      <th>1</th>\n",
       "      <td>2</td>\n",
       "      <td>ابیات پراکنده</td>\n",
       "      <td>2</td>\n",
       "      <td>نیش و نوش</td>\n",
       "      <td>کس بهره از آن تازه بر و دوش ندارد / کاین شاخه ...</td>\n",
       "      <td>2</td>\n",
       "      <td>NaN</td>\n",
       "      <td>rahi</td>\n",
       "    </tr>\n",
       "    <tr>\n",
       "      <th>2</th>\n",
       "      <td>3</td>\n",
       "      <td>ابیات پراکنده</td>\n",
       "      <td>3</td>\n",
       "      <td>تلخکامی</td>\n",
       "      <td>داغ حسرت سوخت جان آرزومند مرا / آسمان با اشک غ...</td>\n",
       "      <td>2</td>\n",
       "      <td>NaN</td>\n",
       "      <td>rahi</td>\n",
       "    </tr>\n",
       "    <tr>\n",
       "      <th>3</th>\n",
       "      <td>4</td>\n",
       "      <td>ابیات پراکنده</td>\n",
       "      <td>4</td>\n",
       "      <td>دریای تهی</td>\n",
       "      <td>در جام فلک باده بی دردسری نیست / تا ما به تمنا...</td>\n",
       "      <td>2</td>\n",
       "      <td>NaN</td>\n",
       "      <td>rahi</td>\n",
       "    </tr>\n",
       "    <tr>\n",
       "      <th>4</th>\n",
       "      <td>5</td>\n",
       "      <td>ابیات پراکنده</td>\n",
       "      <td>5</td>\n",
       "      <td>رنج زندگی</td>\n",
       "      <td>هزار شکر که از رنج زندگی آسود / وجود خسته و جا...</td>\n",
       "      <td>2</td>\n",
       "      <td>NaN</td>\n",
       "      <td>rahi</td>\n",
       "    </tr>\n",
       "    <tr>\n",
       "      <th>...</th>\n",
       "      <td>...</td>\n",
       "      <td>...</td>\n",
       "      <td>...</td>\n",
       "      <td>...</td>\n",
       "      <td>...</td>\n",
       "      <td>...</td>\n",
       "      <td>...</td>\n",
       "      <td>...</td>\n",
       "    </tr>\n",
       "    <tr>\n",
       "      <th>192</th>\n",
       "      <td>193</td>\n",
       "      <td>چند قطعه</td>\n",
       "      <td>49</td>\n",
       "      <td>باور مکن</td>\n",
       "      <td>مار اگر گوید که مورم، بشنو و باور مکن / دیو اگ...</td>\n",
       "      <td>8</td>\n",
       "      <td>ghazal</td>\n",
       "      <td>rahi</td>\n",
       "    </tr>\n",
       "    <tr>\n",
       "      <th>193</th>\n",
       "      <td>194</td>\n",
       "      <td>چند قطعه</td>\n",
       "      <td>50</td>\n",
       "      <td>رنج بیهوده</td>\n",
       "      <td>خائنین اهل وطن را مایه دردسرند / جمله همچون خا...</td>\n",
       "      <td>7</td>\n",
       "      <td>ghazal</td>\n",
       "      <td>rahi</td>\n",
       "    </tr>\n",
       "    <tr>\n",
       "      <th>194</th>\n",
       "      <td>195</td>\n",
       "      <td>چند قطعه</td>\n",
       "      <td>51</td>\n",
       "      <td>وطن</td>\n",
       "      <td>زنده باد آن کس که هست از جان هوادار وطن / هم و...</td>\n",
       "      <td>6</td>\n",
       "      <td>ghazal</td>\n",
       "      <td>rahi</td>\n",
       "    </tr>\n",
       "    <tr>\n",
       "      <th>195</th>\n",
       "      <td>196</td>\n",
       "      <td>چند قطعه</td>\n",
       "      <td>52</td>\n",
       "      <td>شور وطن</td>\n",
       "      <td>هرکه را بر سر ز سودای وطن افسر بود / هر کجا با...</td>\n",
       "      <td>7</td>\n",
       "      <td>ghazal</td>\n",
       "      <td>rahi</td>\n",
       "    </tr>\n",
       "    <tr>\n",
       "      <th>196</th>\n",
       "      <td>197</td>\n",
       "      <td>چند قطعه</td>\n",
       "      <td>53</td>\n",
       "      <td>جمال پرست</td>\n",
       "      <td>نه من پرستش روی نکو نمایم و بس / کسیکه روی نکو...</td>\n",
       "      <td>2</td>\n",
       "      <td>ghazal</td>\n",
       "      <td>rahi</td>\n",
       "    </tr>\n",
       "  </tbody>\n",
       "</table>\n",
       "<p>197 rows × 8 columns</p>\n",
       "</div>"
      ],
      "text/plain": [
       "     poem_id      book_name  count             title  \\\n",
       "0          1  ابیات پراکنده      1  باید خریدارم شوی   \n",
       "1          2  ابیات پراکنده      2         نیش و نوش   \n",
       "2          3  ابیات پراکنده      3           تلخکامی   \n",
       "3          4  ابیات پراکنده      4         دریای تهی   \n",
       "4          5  ابیات پراکنده      5         رنج زندگی   \n",
       "..       ...            ...    ...               ...   \n",
       "192      193       چند قطعه     49          باور مکن   \n",
       "193      194       چند قطعه     50        رنج بیهوده   \n",
       "194      195       چند قطعه     51               وطن   \n",
       "195      196       چند قطعه     52           شور وطن   \n",
       "196      197       چند قطعه     53         جمال پرست   \n",
       "\n",
       "                                                verses  verse_number   label  \\\n",
       "0    باید خریدارم شوی تا من خریدارت شوم / وزجان و د...             2     NaN   \n",
       "1    کس بهره از آن تازه بر و دوش ندارد / کاین شاخه ...             2     NaN   \n",
       "2    داغ حسرت سوخت جان آرزومند مرا / آسمان با اشک غ...             2     NaN   \n",
       "3    در جام فلک باده بی دردسری نیست / تا ما به تمنا...             2     NaN   \n",
       "4    هزار شکر که از رنج زندگی آسود / وجود خسته و جا...             2     NaN   \n",
       "..                                                 ...           ...     ...   \n",
       "192  مار اگر گوید که مورم، بشنو و باور مکن / دیو اگ...             8  ghazal   \n",
       "193  خائنین اهل وطن را مایه دردسرند / جمله همچون خا...             7  ghazal   \n",
       "194  زنده باد آن کس که هست از جان هوادار وطن / هم و...             6  ghazal   \n",
       "195  هرکه را بر سر ز سودای وطن افسر بود / هر کجا با...             7  ghazal   \n",
       "196  نه من پرستش روی نکو نمایم و بس / کسیکه روی نکو...             2  ghazal   \n",
       "\n",
       "     poet  \n",
       "0    rahi  \n",
       "1    rahi  \n",
       "2    rahi  \n",
       "3    rahi  \n",
       "4    rahi  \n",
       "..    ...  \n",
       "192  rahi  \n",
       "193  rahi  \n",
       "194  rahi  \n",
       "195  rahi  \n",
       "196  rahi  \n",
       "\n",
       "[197 rows x 8 columns]"
      ]
     },
     "execution_count": 3,
     "metadata": {},
     "output_type": "execute_result"
    }
   ],
   "source": [
    "rahi"
   ]
  },
  {
   "cell_type": "code",
   "execution_count": 4,
   "id": "68d38a8c-c581-479b-a004-a49934e0f123",
   "metadata": {},
   "outputs": [
    {
     "data": {
      "text/plain": [
       "poem_id          0\n",
       "book_name        0\n",
       "count            0\n",
       "title            0\n",
       "verses           0\n",
       "verse_number     0\n",
       "label           25\n",
       "poet             0\n",
       "dtype: int64"
      ]
     },
     "execution_count": 4,
     "metadata": {},
     "output_type": "execute_result"
    }
   ],
   "source": [
    "rahi.isna().sum()"
   ]
  },
  {
   "cell_type": "code",
   "execution_count": 5,
   "id": "6e21c573-a0dc-4371-94a1-f3e44586abd6",
   "metadata": {},
   "outputs": [
    {
     "data": {
      "text/plain": [
       "poem_id          int64\n",
       "book_name       object\n",
       "count            int64\n",
       "title           object\n",
       "verses          object\n",
       "verse_number     int64\n",
       "label           object\n",
       "poet            object\n",
       "dtype: object"
      ]
     },
     "execution_count": 5,
     "metadata": {},
     "output_type": "execute_result"
    }
   ],
   "source": [
    "rahi.dtypes"
   ]
  },
  {
   "cell_type": "code",
   "execution_count": 6,
   "id": "e2f4f500-3470-405a-8561-9005106604af",
   "metadata": {},
   "outputs": [
    {
     "data": {
      "text/plain": [
       "poem_id          int64\n",
       "book_name       object\n",
       "count            int64\n",
       "title           object\n",
       "verses          object\n",
       "verse_number     int64\n",
       "label           object\n",
       "poet            object\n",
       "dtype: object"
      ]
     },
     "execution_count": 6,
     "metadata": {},
     "output_type": "execute_result"
    }
   ],
   "source": [
    "rahi.dtypes"
   ]
  },
  {
   "cell_type": "code",
   "execution_count": 7,
   "id": "67293329-0379-418a-82e0-d8433778ac56",
   "metadata": {},
   "outputs": [],
   "source": [
    "pd.set_option('display.max_colwidth', None)"
   ]
  },
  {
   "cell_type": "code",
   "execution_count": 7,
   "id": "483bb61b-f8db-4069-b99d-3a3ab774a3f2",
   "metadata": {},
   "outputs": [
    {
     "data": {
      "text/plain": [
       "({'ابیات پراکنده',\n",
       "  'رباعیات',\n",
       "  'غزلیات\\nجلد اول',\n",
       "  'غزلیات\\nجلد دوم',\n",
       "  'غزلیات\\nجلد سوم',\n",
       "  'غزلیات\\nجلد چهارم',\n",
       "  'منظومه\\u200cها',\n",
       "  'چند تغزل',\n",
       "  'چند قطعه'},\n",
       " 9)"
      ]
     },
     "execution_count": 7,
     "metadata": {},
     "output_type": "execute_result"
    }
   ],
   "source": [
    "s = set()\n",
    "for i in rahi[\"book_name\"]:\n",
    "    s.add(i)\n",
    "s, len(s)"
   ]
  },
  {
   "cell_type": "code",
   "execution_count": 8,
   "id": "5da0d45d-f33c-48f0-8da2-e98fd7c0d8d8",
   "metadata": {},
   "outputs": [
    {
     "data": {
      "text/plain": [
       "poem_id          int64\n",
       "book_name       object\n",
       "count            int64\n",
       "title           object\n",
       "verses          object\n",
       "verse_number     int64\n",
       "label           object\n",
       "poet            object\n",
       "dtype: object"
      ]
     },
     "execution_count": 8,
     "metadata": {},
     "output_type": "execute_result"
    }
   ],
   "source": [
    "rahi.dtypes"
   ]
  },
  {
   "cell_type": "code",
   "execution_count": 9,
   "id": "01df3093-7857-4da5-8cb7-a135e3d3c1e9",
   "metadata": {},
   "outputs": [
    {
     "data": {
      "text/plain": [
       "197"
      ]
     },
     "execution_count": 9,
     "metadata": {},
     "output_type": "execute_result"
    }
   ],
   "source": [
    "len(rahi['verses'])"
   ]
  },
  {
   "cell_type": "code",
   "execution_count": 10,
   "id": "268c889b-cf46-4e41-95ef-afe9b298a941",
   "metadata": {},
   "outputs": [],
   "source": [
    "verse = rahi['verses'][1]"
   ]
  },
  {
   "cell_type": "code",
   "execution_count": 11,
   "id": "7fe5ca44-d93f-4299-a302-05c0c3e3e44b",
   "metadata": {},
   "outputs": [
    {
     "data": {
      "text/plain": [
       "'کس بهره از آن تازه بر و دوش ندارد / کاین شاخه گل طاقت آغوش ندارد\\nاز عشق نرنجیم و گر مایه رنج است / با نیش بسازیم اگر نوش ندارد\\n'"
      ]
     },
     "execution_count": 11,
     "metadata": {},
     "output_type": "execute_result"
    }
   ],
   "source": [
    "verse"
   ]
  },
  {
   "cell_type": "code",
   "execution_count": 12,
   "id": "1ea30a3b-2155-462f-aee9-990ca3e1a35a",
   "metadata": {},
   "outputs": [
    {
     "name": "stdout",
     "output_type": "stream",
     "text": [
      "کس بهره از آن تازه بر و دوش ندارد / کاین شاخه گل طاقت آغوش ندارد\n",
      "از عشق نرنجیم و گر مایه رنج است / با نیش بسازیم اگر نوش ندارد\n",
      "\n"
     ]
    }
   ],
   "source": [
    "print(verse)"
   ]
  },
  {
   "cell_type": "code",
   "execution_count": null,
   "id": "78d9e5ee-52b2-4ad6-b75b-aa29ad2f8004",
   "metadata": {},
   "outputs": [],
   "source": []
  },
  {
   "cell_type": "code",
   "execution_count": null,
   "id": "b06c3f22-8a22-454c-9dd7-779721880036",
   "metadata": {},
   "outputs": [],
   "source": []
  }
 ],
 "metadata": {
  "kernelspec": {
   "display_name": "Python 3 (ipykernel)",
   "language": "python",
   "name": "python3"
  },
  "language_info": {
   "codemirror_mode": {
    "name": "ipython",
    "version": 3
   },
   "file_extension": ".py",
   "mimetype": "text/x-python",
   "name": "python",
   "nbconvert_exporter": "python",
   "pygments_lexer": "ipython3",
   "version": "3.12.5"
  }
 },
 "nbformat": 4,
 "nbformat_minor": 5
}
