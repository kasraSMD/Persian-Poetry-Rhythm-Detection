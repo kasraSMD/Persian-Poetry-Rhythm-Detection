{
 "cells": [
  {
   "cell_type": "code",
   "execution_count": 1,
   "id": "af73be62-3911-4536-91ed-4f880cf22004",
   "metadata": {},
   "outputs": [],
   "source": [
    "import pandas as pd"
   ]
  },
  {
   "cell_type": "code",
   "execution_count": 6,
   "id": "854af468-46e2-48ad-b610-6c87cfe6a077",
   "metadata": {},
   "outputs": [],
   "source": [
    "hafez = pd.read_csv(\"hafez.csv\", encoding='utf-8')"
   ]
  },
  {
   "cell_type": "code",
   "execution_count": 7,
   "id": "8867bca5-ca55-435d-8212-7d2379757bdf",
   "metadata": {},
   "outputs": [
    {
     "data": {
      "text/html": [
       "<div>\n",
       "<style scoped>\n",
       "    .dataframe tbody tr th:only-of-type {\n",
       "        vertical-align: middle;\n",
       "    }\n",
       "\n",
       "    .dataframe tbody tr th {\n",
       "        vertical-align: top;\n",
       "    }\n",
       "\n",
       "    .dataframe thead th {\n",
       "        text-align: right;\n",
       "    }\n",
       "</style>\n",
       "<table border=\"1\" class=\"dataframe\">\n",
       "  <thead>\n",
       "    <tr style=\"text-align: right;\">\n",
       "      <th></th>\n",
       "      <th>poem_id</th>\n",
       "      <th>count</th>\n",
       "      <th>title</th>\n",
       "      <th>verses</th>\n",
       "      <th>verse_number</th>\n",
       "      <th>label</th>\n",
       "      <th>poet</th>\n",
       "    </tr>\n",
       "  </thead>\n",
       "  <tbody>\n",
       "    <tr>\n",
       "      <th>0</th>\n",
       "      <td>1</td>\n",
       "      <td>1</td>\n",
       "      <td>غزل شمارهٔ ۱</td>\n",
       "      <td>الا یا ایها الساقی ادر کأسا و ناولها / که عشق ...</td>\n",
       "      <td>7</td>\n",
       "      <td>ghazal</td>\n",
       "      <td>hafez</td>\n",
       "    </tr>\n",
       "    <tr>\n",
       "      <th>1</th>\n",
       "      <td>2</td>\n",
       "      <td>2</td>\n",
       "      <td>غزل شمارهٔ ۲</td>\n",
       "      <td>صلاح کار کجا و من خراب کجا / ببین تفاوت ره کز ...</td>\n",
       "      <td>8</td>\n",
       "      <td>ghazal</td>\n",
       "      <td>hafez</td>\n",
       "    </tr>\n",
       "    <tr>\n",
       "      <th>2</th>\n",
       "      <td>3</td>\n",
       "      <td>3</td>\n",
       "      <td>غزل شمارهٔ ۳</td>\n",
       "      <td>اگر آن ترک شیرازی به دست آرد دل ما را / به خال...</td>\n",
       "      <td>9</td>\n",
       "      <td>ghazal</td>\n",
       "      <td>hafez</td>\n",
       "    </tr>\n",
       "    <tr>\n",
       "      <th>3</th>\n",
       "      <td>4</td>\n",
       "      <td>4</td>\n",
       "      <td>غزل شمارهٔ ۴</td>\n",
       "      <td>صبا به لطف بگو آن غزال رعنا را / که سر به کوه ...</td>\n",
       "      <td>8</td>\n",
       "      <td>ghazal</td>\n",
       "      <td>hafez</td>\n",
       "    </tr>\n",
       "    <tr>\n",
       "      <th>4</th>\n",
       "      <td>5</td>\n",
       "      <td>5</td>\n",
       "      <td>غزل شمارهٔ ۵</td>\n",
       "      <td>دل می‌رود ز دستم صاحب دلان خدا را / دردا که را...</td>\n",
       "      <td>13</td>\n",
       "      <td>ghazal</td>\n",
       "      <td>hafez</td>\n",
       "    </tr>\n",
       "    <tr>\n",
       "      <th>...</th>\n",
       "      <td>...</td>\n",
       "      <td>...</td>\n",
       "      <td>...</td>\n",
       "      <td>...</td>\n",
       "      <td>...</td>\n",
       "      <td>...</td>\n",
       "      <td>...</td>\n",
       "    </tr>\n",
       "    <tr>\n",
       "      <th>625</th>\n",
       "      <td>626</td>\n",
       "      <td>50</td>\n",
       "      <td>شمارهٔ ۵۰</td>\n",
       "      <td>اکنون که چمن گشت ز گلزار بهشتی / ساقی می گلگون...</td>\n",
       "      <td>7</td>\n",
       "      <td>montasab</td>\n",
       "      <td>hafez</td>\n",
       "    </tr>\n",
       "    <tr>\n",
       "      <th>626</th>\n",
       "      <td>627</td>\n",
       "      <td>51</td>\n",
       "      <td>شمارهٔ ۵۱ - رباعی</td>\n",
       "      <td>زآن بادهٔ دیرینهٔ دهقان پرورد / در ده که تراز ...</td>\n",
       "      <td>2</td>\n",
       "      <td>montasab</td>\n",
       "      <td>hafez</td>\n",
       "    </tr>\n",
       "    <tr>\n",
       "      <th>627</th>\n",
       "      <td>628</td>\n",
       "      <td>52</td>\n",
       "      <td>شمارهٔ ۵۲ - رباعی</td>\n",
       "      <td>شب رفت به پایان و حکایت باقیست / شکر تو نگفتیم...</td>\n",
       "      <td>2</td>\n",
       "      <td>montasab</td>\n",
       "      <td>hafez</td>\n",
       "    </tr>\n",
       "    <tr>\n",
       "      <th>628</th>\n",
       "      <td>629</td>\n",
       "      <td>53</td>\n",
       "      <td>شمارهٔ ۵۳ - رباعی</td>\n",
       "      <td>یا کار به کام دل مجروح شود / یا ملک دلم بی ملک...</td>\n",
       "      <td>2</td>\n",
       "      <td>montasab</td>\n",
       "      <td>hafez</td>\n",
       "    </tr>\n",
       "    <tr>\n",
       "      <th>629</th>\n",
       "      <td>630</td>\n",
       "      <td>54</td>\n",
       "      <td>شمارهٔ ۵۴ - رباعی</td>\n",
       "      <td>راه طلب تو خار غمها دارد / کو راهروى که این قد...</td>\n",
       "      <td>2</td>\n",
       "      <td>montasab</td>\n",
       "      <td>hafez</td>\n",
       "    </tr>\n",
       "  </tbody>\n",
       "</table>\n",
       "<p>630 rows × 7 columns</p>\n",
       "</div>"
      ],
      "text/plain": [
       "     poem_id  count              title  \\\n",
       "0          1      1       غزل شمارهٔ ۱   \n",
       "1          2      2       غزل شمارهٔ ۲   \n",
       "2          3      3       غزل شمارهٔ ۳   \n",
       "3          4      4       غزل شمارهٔ ۴   \n",
       "4          5      5       غزل شمارهٔ ۵   \n",
       "..       ...    ...                ...   \n",
       "625      626     50          شمارهٔ ۵۰   \n",
       "626      627     51  شمارهٔ ۵۱ - رباعی   \n",
       "627      628     52  شمارهٔ ۵۲ - رباعی   \n",
       "628      629     53  شمارهٔ ۵۳ - رباعی   \n",
       "629      630     54  شمارهٔ ۵۴ - رباعی   \n",
       "\n",
       "                                                verses  verse_number  \\\n",
       "0    الا یا ایها الساقی ادر کأسا و ناولها / که عشق ...             7   \n",
       "1    صلاح کار کجا و من خراب کجا / ببین تفاوت ره کز ...             8   \n",
       "2    اگر آن ترک شیرازی به دست آرد دل ما را / به خال...             9   \n",
       "3    صبا به لطف بگو آن غزال رعنا را / که سر به کوه ...             8   \n",
       "4    دل می‌رود ز دستم صاحب دلان خدا را / دردا که را...            13   \n",
       "..                                                 ...           ...   \n",
       "625  اکنون که چمن گشت ز گلزار بهشتی / ساقی می گلگون...             7   \n",
       "626  زآن بادهٔ دیرینهٔ دهقان پرورد / در ده که تراز ...             2   \n",
       "627  شب رفت به پایان و حکایت باقیست / شکر تو نگفتیم...             2   \n",
       "628  یا کار به کام دل مجروح شود / یا ملک دلم بی ملک...             2   \n",
       "629  راه طلب تو خار غمها دارد / کو راهروى که این قد...             2   \n",
       "\n",
       "        label   poet  \n",
       "0      ghazal  hafez  \n",
       "1      ghazal  hafez  \n",
       "2      ghazal  hafez  \n",
       "3      ghazal  hafez  \n",
       "4      ghazal  hafez  \n",
       "..        ...    ...  \n",
       "625  montasab  hafez  \n",
       "626  montasab  hafez  \n",
       "627  montasab  hafez  \n",
       "628  montasab  hafez  \n",
       "629  montasab  hafez  \n",
       "\n",
       "[630 rows x 7 columns]"
      ]
     },
     "execution_count": 7,
     "metadata": {},
     "output_type": "execute_result"
    }
   ],
   "source": [
    "hafez"
   ]
  },
  {
   "cell_type": "code",
   "execution_count": 8,
   "id": "68d38a8c-c581-479b-a004-a49934e0f123",
   "metadata": {},
   "outputs": [
    {
     "data": {
      "text/plain": [
       "poem_id         0\n",
       "count           0\n",
       "title           0\n",
       "verses          0\n",
       "verse_number    0\n",
       "label           0\n",
       "poet            0\n",
       "dtype: int64"
      ]
     },
     "execution_count": 8,
     "metadata": {},
     "output_type": "execute_result"
    }
   ],
   "source": [
    "hafez.isna().sum()"
   ]
  },
  {
   "cell_type": "code",
   "execution_count": 9,
   "id": "6e21c573-a0dc-4371-94a1-f3e44586abd6",
   "metadata": {},
   "outputs": [
    {
     "data": {
      "text/plain": [
       "poem_id          int64\n",
       "count            int64\n",
       "title           object\n",
       "verses          object\n",
       "verse_number     int64\n",
       "label           object\n",
       "poet            object\n",
       "dtype: object"
      ]
     },
     "execution_count": 9,
     "metadata": {},
     "output_type": "execute_result"
    }
   ],
   "source": [
    "hafez.dtypes"
   ]
  },
  {
   "cell_type": "code",
   "execution_count": 10,
   "id": "e2f4f500-3470-405a-8561-9005106604af",
   "metadata": {},
   "outputs": [
    {
     "data": {
      "text/plain": [
       "poem_id          int64\n",
       "count            int64\n",
       "title           object\n",
       "verses          object\n",
       "verse_number     int64\n",
       "label           object\n",
       "poet            object\n",
       "dtype: object"
      ]
     },
     "execution_count": 10,
     "metadata": {},
     "output_type": "execute_result"
    }
   ],
   "source": [
    "hafez.dtypes"
   ]
  },
  {
   "cell_type": "code",
   "execution_count": 11,
   "id": "67293329-0379-418a-82e0-d8433778ac56",
   "metadata": {},
   "outputs": [],
   "source": [
    "pd.set_option('display.max_colwidth', None)"
   ]
  },
  {
   "cell_type": "code",
   "execution_count": 12,
   "id": "5da0d45d-f33c-48f0-8da2-e98fd7c0d8d8",
   "metadata": {},
   "outputs": [
    {
     "data": {
      "text/plain": [
       "poem_id          int64\n",
       "count            int64\n",
       "title           object\n",
       "verses          object\n",
       "verse_number     int64\n",
       "label           object\n",
       "poet            object\n",
       "dtype: object"
      ]
     },
     "execution_count": 12,
     "metadata": {},
     "output_type": "execute_result"
    }
   ],
   "source": [
    "hafez.dtypes"
   ]
  },
  {
   "cell_type": "code",
   "execution_count": 116,
   "id": "01df3093-7857-4da5-8cb7-a135e3d3c1e9",
   "metadata": {},
   "outputs": [
    {
     "data": {
      "text/plain": [
       "630"
      ]
     },
     "execution_count": 116,
     "metadata": {},
     "output_type": "execute_result"
    }
   ],
   "source": [
    "len(hafez['verses'])"
   ]
  },
  {
   "cell_type": "code",
   "execution_count": 117,
   "id": "268c889b-cf46-4e41-95ef-afe9b298a941",
   "metadata": {},
   "outputs": [],
   "source": [
    "verse = hafez['verses'][1]"
   ]
  },
  {
   "cell_type": "code",
   "execution_count": 118,
   "id": "7fe5ca44-d93f-4299-a302-05c0c3e3e44b",
   "metadata": {},
   "outputs": [
    {
     "data": {
      "text/plain": [
       "'صلاح کار کجا و من خراب کجا / ببین تفاوت ره کز کجاست تا به کجا\\nدلم ز صومعه بگرفت و خرقه سالوس / کجاست دیر مغان و شراب ناب کجا\\nچه نسبت است به رندی صلاح و تقوا را / سماع وعظ کجا نغمه رباب کجا\\nز روی دوست دل دشمنان چه دریابد / چراغ مرده کجا شمع آفتاب کجا\\nچو کحل بینش ما خاک آستان شماست / کجا رویم بفرما از این جناب کجا\\nمبین به سیب زنخدان که چاه در راه است / کجا همی\\u200cروی ای دل بدین شتاب کجا\\nبشد که یاد خوشش باد روزگار وصال / خود آن کرشمه کجا رفت و آن عتاب کجا\\nقرار و خواب ز حافظ طمع مدار ای دوست / قرار چیست صبوری کدام و خواب کجا\\n'"
      ]
     },
     "execution_count": 118,
     "metadata": {},
     "output_type": "execute_result"
    }
   ],
   "source": [
    "verse"
   ]
  },
  {
   "cell_type": "code",
   "execution_count": 119,
   "id": "1ea30a3b-2155-462f-aee9-990ca3e1a35a",
   "metadata": {},
   "outputs": [
    {
     "name": "stdout",
     "output_type": "stream",
     "text": [
      "صلاح کار کجا و من خراب کجا / ببین تفاوت ره کز کجاست تا به کجا\n",
      "دلم ز صومعه بگرفت و خرقه سالوس / کجاست دیر مغان و شراب ناب کجا\n",
      "چه نسبت است به رندی صلاح و تقوا را / سماع وعظ کجا نغمه رباب کجا\n",
      "ز روی دوست دل دشمنان چه دریابد / چراغ مرده کجا شمع آفتاب کجا\n",
      "چو کحل بینش ما خاک آستان شماست / کجا رویم بفرما از این جناب کجا\n",
      "مبین به سیب زنخدان که چاه در راه است / کجا همی‌روی ای دل بدین شتاب کجا\n",
      "بشد که یاد خوشش باد روزگار وصال / خود آن کرشمه کجا رفت و آن عتاب کجا\n",
      "قرار و خواب ز حافظ طمع مدار ای دوست / قرار چیست صبوری کدام و خواب کجا\n",
      "\n"
     ]
    }
   ],
   "source": [
    "print(verse)"
   ]
  },
  {
   "cell_type": "code",
   "execution_count": null,
   "id": "78d9e5ee-52b2-4ad6-b75b-aa29ad2f8004",
   "metadata": {},
   "outputs": [],
   "source": []
  },
  {
   "cell_type": "code",
   "execution_count": null,
   "id": "b06c3f22-8a22-454c-9dd7-779721880036",
   "metadata": {},
   "outputs": [],
   "source": []
  }
 ],
 "metadata": {
  "kernelspec": {
   "display_name": "Python 3 (ipykernel)",
   "language": "python",
   "name": "python3"
  },
  "language_info": {
   "codemirror_mode": {
    "name": "ipython",
    "version": 3
   },
   "file_extension": ".py",
   "mimetype": "text/x-python",
   "name": "python",
   "nbconvert_exporter": "python",
   "pygments_lexer": "ipython3",
   "version": "3.12.5"
  }
 },
 "nbformat": 4,
 "nbformat_minor": 5
}
