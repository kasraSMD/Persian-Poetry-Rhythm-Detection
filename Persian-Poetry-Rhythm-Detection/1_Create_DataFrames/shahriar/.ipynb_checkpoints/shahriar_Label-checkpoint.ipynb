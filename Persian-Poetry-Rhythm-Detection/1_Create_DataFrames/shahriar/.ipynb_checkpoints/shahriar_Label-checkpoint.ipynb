{
 "cells": [
  {
   "cell_type": "code",
   "execution_count": 1,
   "id": "af73be62-3911-4536-91ed-4f880cf22004",
   "metadata": {},
   "outputs": [],
   "source": [
    "import pandas as pd"
   ]
  },
  {
   "cell_type": "code",
   "execution_count": 2,
   "id": "854af468-46e2-48ad-b610-6c87cfe6a077",
   "metadata": {},
   "outputs": [],
   "source": [
    "shahriar = pd.read_csv(\"shahriar.csv\", encoding='utf-8')"
   ]
  },
  {
   "cell_type": "code",
   "execution_count": 3,
   "id": "8867bca5-ca55-435d-8212-7d2379757bdf",
   "metadata": {},
   "outputs": [
    {
     "data": {
      "text/html": [
       "<div>\n",
       "<style scoped>\n",
       "    .dataframe tbody tr th:only-of-type {\n",
       "        vertical-align: middle;\n",
       "    }\n",
       "\n",
       "    .dataframe tbody tr th {\n",
       "        vertical-align: top;\n",
       "    }\n",
       "\n",
       "    .dataframe thead th {\n",
       "        text-align: right;\n",
       "    }\n",
       "</style>\n",
       "<table border=\"1\" class=\"dataframe\">\n",
       "  <thead>\n",
       "    <tr style=\"text-align: right;\">\n",
       "      <th></th>\n",
       "      <th>poem_id</th>\n",
       "      <th>book_name</th>\n",
       "      <th>count</th>\n",
       "      <th>title</th>\n",
       "      <th>verses</th>\n",
       "      <th>verse_number</th>\n",
       "      <th>label</th>\n",
       "      <th>poet</th>\n",
       "    </tr>\n",
       "  </thead>\n",
       "  <tbody>\n",
       "    <tr>\n",
       "      <th>0</th>\n",
       "      <td>1</td>\n",
       "      <td>گزیدهٔ غزلیات</td>\n",
       "      <td>1</td>\n",
       "      <td>غزل شمارهٔ ۱ - مکتب حافظ</td>\n",
       "      <td>گذار آرد مه من گاهگاه از اشتباه اینجا / فدای ا...</td>\n",
       "      <td>8</td>\n",
       "      <td>ghazal</td>\n",
       "      <td>shahriar</td>\n",
       "    </tr>\n",
       "    <tr>\n",
       "      <th>1</th>\n",
       "      <td>2</td>\n",
       "      <td>گزیدهٔ غزلیات</td>\n",
       "      <td>2</td>\n",
       "      <td>غزل شمارهٔ ۲ - مناجات</td>\n",
       "      <td>علی ای همای رحمت تو چه آیتی خدا را / که به ماس...</td>\n",
       "      <td>15</td>\n",
       "      <td>ghazal</td>\n",
       "      <td>shahriar</td>\n",
       "    </tr>\n",
       "    <tr>\n",
       "      <th>2</th>\n",
       "      <td>3</td>\n",
       "      <td>گزیدهٔ غزلیات</td>\n",
       "      <td>3</td>\n",
       "      <td>غزل شمارهٔ ۳ - غزاله صبا</td>\n",
       "      <td>به چشمک اینهمه مژگان به هم مزن یارا / که این د...</td>\n",
       "      <td>9</td>\n",
       "      <td>ghazal</td>\n",
       "      <td>shahriar</td>\n",
       "    </tr>\n",
       "    <tr>\n",
       "      <th>3</th>\n",
       "      <td>4</td>\n",
       "      <td>گزیدهٔ غزلیات</td>\n",
       "      <td>4</td>\n",
       "      <td>غزل شمارهٔ ۴ - هفتاد سالگی</td>\n",
       "      <td>سنین عمر به هفتاد میرسد ما را / خدای من که به ...</td>\n",
       "      <td>6</td>\n",
       "      <td>ghazal</td>\n",
       "      <td>shahriar</td>\n",
       "    </tr>\n",
       "    <tr>\n",
       "      <th>4</th>\n",
       "      <td>5</td>\n",
       "      <td>گزیدهٔ غزلیات</td>\n",
       "      <td>5</td>\n",
       "      <td>غزل شمارهٔ ۵ - ارباب زمستان</td>\n",
       "      <td>زمستان پوستین افزود بر تن کدخدایان را / ولیکن ...</td>\n",
       "      <td>12</td>\n",
       "      <td>ghazal</td>\n",
       "      <td>shahriar</td>\n",
       "    </tr>\n",
       "    <tr>\n",
       "      <th>...</th>\n",
       "      <td>...</td>\n",
       "      <td>...</td>\n",
       "      <td>...</td>\n",
       "      <td>...</td>\n",
       "      <td>...</td>\n",
       "      <td>...</td>\n",
       "      <td>...</td>\n",
       "      <td>...</td>\n",
       "    </tr>\n",
       "    <tr>\n",
       "      <th>183</th>\n",
       "      <td>184</td>\n",
       "      <td>گزیدهٔ اشعار ترکی</td>\n",
       "      <td>24</td>\n",
       "      <td>عؤمروُن نئجه گئچدی ؟</td>\n",
       "      <td>بیر اوشاقلیقدا خوش اولدوم اودا یئر گؤی قاچاراق...</td>\n",
       "      <td>3</td>\n",
       "      <td>NaN</td>\n",
       "      <td>shahriar</td>\n",
       "    </tr>\n",
       "    <tr>\n",
       "      <th>184</th>\n",
       "      <td>185</td>\n",
       "      <td>گزیدهٔ اشعار ترکی</td>\n",
       "      <td>25</td>\n",
       "      <td>عزیزه ( با ترجمهٔ فارسی)</td>\n",
       "      <td>نه ظریف بیر گلیــــــن عزیزه سنی / منه لایق تـ...</td>\n",
       "      <td>21</td>\n",
       "      <td>NaN</td>\n",
       "      <td>shahriar</td>\n",
       "    </tr>\n",
       "    <tr>\n",
       "      <th>185</th>\n",
       "      <td>186</td>\n",
       "      <td>گزیدهٔ اشعار ترکی</td>\n",
       "      <td>26</td>\n",
       "      <td>هلال محرم</td>\n",
       "      <td>محرم دیر ، خانیم زینب عزاسی / بیزی سسلر حسینین...</td>\n",
       "      <td>24</td>\n",
       "      <td>NaN</td>\n",
       "      <td>shahriar</td>\n",
       "    </tr>\n",
       "    <tr>\n",
       "      <th>186</th>\n",
       "      <td>187</td>\n",
       "      <td>گزیدهٔ اشعار ترکی</td>\n",
       "      <td>27</td>\n",
       "      <td>خان ننه</td>\n",
       "      <td>خان ننه ، هایاندا قالدین / بئله باشیوا دولانیم...</td>\n",
       "      <td>48</td>\n",
       "      <td>NaN</td>\n",
       "      <td>shahriar</td>\n",
       "    </tr>\n",
       "    <tr>\n",
       "      <th>187</th>\n",
       "      <td>188</td>\n",
       "      <td>گزیدهٔ اشعار ترکی</td>\n",
       "      <td>28</td>\n",
       "      <td>تاریم منیم</td>\n",
       "      <td>سیزلاییر احوالیما صوبحه قدر تاریم منیم / تکجه ...</td>\n",
       "      <td>7</td>\n",
       "      <td>NaN</td>\n",
       "      <td>shahriar</td>\n",
       "    </tr>\n",
       "  </tbody>\n",
       "</table>\n",
       "<p>188 rows × 8 columns</p>\n",
       "</div>"
      ],
      "text/plain": [
       "     poem_id          book_name  count                        title  \\\n",
       "0          1      گزیدهٔ غزلیات      1     غزل شمارهٔ ۱ - مکتب حافظ   \n",
       "1          2      گزیدهٔ غزلیات      2        غزل شمارهٔ ۲ - مناجات   \n",
       "2          3      گزیدهٔ غزلیات      3     غزل شمارهٔ ۳ - غزاله صبا   \n",
       "3          4      گزیدهٔ غزلیات      4   غزل شمارهٔ ۴ - هفتاد سالگی   \n",
       "4          5      گزیدهٔ غزلیات      5  غزل شمارهٔ ۵ - ارباب زمستان   \n",
       "..       ...                ...    ...                          ...   \n",
       "183      184  گزیدهٔ اشعار ترکی     24         عؤمروُن نئجه گئچدی ؟   \n",
       "184      185  گزیدهٔ اشعار ترکی     25     عزیزه ( با ترجمهٔ فارسی)   \n",
       "185      186  گزیدهٔ اشعار ترکی     26                    هلال محرم   \n",
       "186      187  گزیدهٔ اشعار ترکی     27                      خان ننه   \n",
       "187      188  گزیدهٔ اشعار ترکی     28                   تاریم منیم   \n",
       "\n",
       "                                                verses  verse_number   label  \\\n",
       "0    گذار آرد مه من گاهگاه از اشتباه اینجا / فدای ا...             8  ghazal   \n",
       "1    علی ای همای رحمت تو چه آیتی خدا را / که به ماس...            15  ghazal   \n",
       "2    به چشمک اینهمه مژگان به هم مزن یارا / که این د...             9  ghazal   \n",
       "3    سنین عمر به هفتاد میرسد ما را / خدای من که به ...             6  ghazal   \n",
       "4    زمستان پوستین افزود بر تن کدخدایان را / ولیکن ...            12  ghazal   \n",
       "..                                                 ...           ...     ...   \n",
       "183  بیر اوشاقلیقدا خوش اولدوم اودا یئر گؤی قاچاراق...             3     NaN   \n",
       "184  نه ظریف بیر گلیــــــن عزیزه سنی / منه لایق تـ...            21     NaN   \n",
       "185  محرم دیر ، خانیم زینب عزاسی / بیزی سسلر حسینین...            24     NaN   \n",
       "186  خان ننه ، هایاندا قالدین / بئله باشیوا دولانیم...            48     NaN   \n",
       "187  سیزلاییر احوالیما صوبحه قدر تاریم منیم / تکجه ...             7     NaN   \n",
       "\n",
       "         poet  \n",
       "0    shahriar  \n",
       "1    shahriar  \n",
       "2    shahriar  \n",
       "3    shahriar  \n",
       "4    shahriar  \n",
       "..        ...  \n",
       "183  shahriar  \n",
       "184  shahriar  \n",
       "185  shahriar  \n",
       "186  shahriar  \n",
       "187  shahriar  \n",
       "\n",
       "[188 rows x 8 columns]"
      ]
     },
     "execution_count": 3,
     "metadata": {},
     "output_type": "execute_result"
    }
   ],
   "source": [
    "shahriar"
   ]
  },
  {
   "cell_type": "code",
   "execution_count": 4,
   "id": "68d38a8c-c581-479b-a004-a49934e0f123",
   "metadata": {},
   "outputs": [
    {
     "data": {
      "text/plain": [
       "poem_id          0\n",
       "book_name        0\n",
       "count            0\n",
       "title            0\n",
       "verses           0\n",
       "verse_number     0\n",
       "label           28\n",
       "poet             0\n",
       "dtype: int64"
      ]
     },
     "execution_count": 4,
     "metadata": {},
     "output_type": "execute_result"
    }
   ],
   "source": [
    "shahriar.isna().sum()"
   ]
  },
  {
   "cell_type": "code",
   "execution_count": 5,
   "id": "6e21c573-a0dc-4371-94a1-f3e44586abd6",
   "metadata": {},
   "outputs": [
    {
     "data": {
      "text/plain": [
       "poem_id          int64\n",
       "book_name       object\n",
       "count            int64\n",
       "title           object\n",
       "verses          object\n",
       "verse_number     int64\n",
       "label           object\n",
       "poet            object\n",
       "dtype: object"
      ]
     },
     "execution_count": 5,
     "metadata": {},
     "output_type": "execute_result"
    }
   ],
   "source": [
    "shahriar.dtypes"
   ]
  },
  {
   "cell_type": "code",
   "execution_count": 6,
   "id": "e2f4f500-3470-405a-8561-9005106604af",
   "metadata": {},
   "outputs": [
    {
     "data": {
      "text/plain": [
       "poem_id          int64\n",
       "book_name       object\n",
       "count            int64\n",
       "title           object\n",
       "verses          object\n",
       "verse_number     int64\n",
       "label           object\n",
       "poet            object\n",
       "dtype: object"
      ]
     },
     "execution_count": 6,
     "metadata": {},
     "output_type": "execute_result"
    }
   ],
   "source": [
    "shahriar.dtypes"
   ]
  },
  {
   "cell_type": "code",
   "execution_count": 7,
   "id": "67293329-0379-418a-82e0-d8433778ac56",
   "metadata": {},
   "outputs": [],
   "source": [
    "pd.set_option('display.max_colwidth', None)"
   ]
  },
  {
   "cell_type": "code",
   "execution_count": 9,
   "id": "483bb61b-f8db-4069-b99d-3a3ab774a3f2",
   "metadata": {},
   "outputs": [
    {
     "data": {
      "text/plain": [
       "({'گزیدهٔ اشعار ترکی', 'گزیدهٔ غزلیات'}, 2)"
      ]
     },
     "execution_count": 9,
     "metadata": {},
     "output_type": "execute_result"
    }
   ],
   "source": [
    "s = set()\n",
    "for i in shahriar[\"book_name\"]:\n",
    "    s.add(i)\n",
    "s, len(s)"
   ]
  },
  {
   "cell_type": "code",
   "execution_count": 10,
   "id": "5da0d45d-f33c-48f0-8da2-e98fd7c0d8d8",
   "metadata": {},
   "outputs": [
    {
     "data": {
      "text/plain": [
       "poem_id          int64\n",
       "book_name       object\n",
       "count            int64\n",
       "title           object\n",
       "verses          object\n",
       "verse_number     int64\n",
       "label           object\n",
       "poet            object\n",
       "dtype: object"
      ]
     },
     "execution_count": 10,
     "metadata": {},
     "output_type": "execute_result"
    }
   ],
   "source": [
    "shahriar.dtypes"
   ]
  },
  {
   "cell_type": "code",
   "execution_count": 11,
   "id": "01df3093-7857-4da5-8cb7-a135e3d3c1e9",
   "metadata": {},
   "outputs": [
    {
     "data": {
      "text/plain": [
       "188"
      ]
     },
     "execution_count": 11,
     "metadata": {},
     "output_type": "execute_result"
    }
   ],
   "source": [
    "len(shahriar['verses'])"
   ]
  },
  {
   "cell_type": "code",
   "execution_count": 13,
   "id": "268c889b-cf46-4e41-95ef-afe9b298a941",
   "metadata": {},
   "outputs": [],
   "source": [
    "verse = shahriar['verses'][1]"
   ]
  },
  {
   "cell_type": "code",
   "execution_count": 14,
   "id": "7fe5ca44-d93f-4299-a302-05c0c3e3e44b",
   "metadata": {},
   "outputs": [
    {
     "data": {
      "text/plain": [
       "'علی ای همای رحمت تو چه آیتی خدا را / که به ماسوا فکندی همه سایه هما را\\nدل اگر خداشناسی همه در رخ علی بین / به علی شناختم من به خدا قسم خدا را\\nبه خدا که در دو عالم اثر از فنا نماند / چو علی گرفته باشد سر چشمه بقا را\\nمگر ای سحاب رحمت تو بباری ارنه دوزخ / به شرار قهر سوزد همه جان ماسوا را\\nبرو ای گدای مسکین در خانه علی زن / که نگین پادشاهی دهد از کرم گدا را\\nبجز از علی که گوید به پسر که قاتل من / چو اسیر تست اکنون به اسیر کن مدارا\\nبجز از علی که آرد پسری ابوالعجائب / که علم کند به عالم شهدای کربلا را\\nچو به دوست عهد بندد ز میان پاکبازان / چو علی که میتواند که بسر برد وفا را\\nنه خدا توانمش خواند نه بشر توانمش گفت / متحیرم چه نامم شه ملک لافتی را\\nبدو چشم خون فشانم هله ای نسیم رحمت / که ز کوی او غباری به من آر توتیا را\\nبه امید آن که شاید برسد به خاک پایت / چه پیامها سپردم همه سوز دل صبا را\\nچو تویی قضای گردان به دعای مستمندان / که ز جان ما بگردان ره آفت قضا را\\nچه زنم چونای هردم ز نوای شوق او دم / که لسان غیب خوشتر بنوازد این نوا را\\n«همه شب در این امیدم که نسیم صبحگاهی / به پیام آشنائی بنوازد آشنا را»\\nز نوای مرغ یا حق بشنو که در دل شب / غم دل به دوست گفتن چه خوشست شهریارا\\n'"
      ]
     },
     "execution_count": 14,
     "metadata": {},
     "output_type": "execute_result"
    }
   ],
   "source": [
    "verse"
   ]
  },
  {
   "cell_type": "code",
   "execution_count": 15,
   "id": "1ea30a3b-2155-462f-aee9-990ca3e1a35a",
   "metadata": {},
   "outputs": [
    {
     "name": "stdout",
     "output_type": "stream",
     "text": [
      "علی ای همای رحمت تو چه آیتی خدا را / که به ماسوا فکندی همه سایه هما را\n",
      "دل اگر خداشناسی همه در رخ علی بین / به علی شناختم من به خدا قسم خدا را\n",
      "به خدا که در دو عالم اثر از فنا نماند / چو علی گرفته باشد سر چشمه بقا را\n",
      "مگر ای سحاب رحمت تو بباری ارنه دوزخ / به شرار قهر سوزد همه جان ماسوا را\n",
      "برو ای گدای مسکین در خانه علی زن / که نگین پادشاهی دهد از کرم گدا را\n",
      "بجز از علی که گوید به پسر که قاتل من / چو اسیر تست اکنون به اسیر کن مدارا\n",
      "بجز از علی که آرد پسری ابوالعجائب / که علم کند به عالم شهدای کربلا را\n",
      "چو به دوست عهد بندد ز میان پاکبازان / چو علی که میتواند که بسر برد وفا را\n",
      "نه خدا توانمش خواند نه بشر توانمش گفت / متحیرم چه نامم شه ملک لافتی را\n",
      "بدو چشم خون فشانم هله ای نسیم رحمت / که ز کوی او غباری به من آر توتیا را\n",
      "به امید آن که شاید برسد به خاک پایت / چه پیامها سپردم همه سوز دل صبا را\n",
      "چو تویی قضای گردان به دعای مستمندان / که ز جان ما بگردان ره آفت قضا را\n",
      "چه زنم چونای هردم ز نوای شوق او دم / که لسان غیب خوشتر بنوازد این نوا را\n",
      "«همه شب در این امیدم که نسیم صبحگاهی / به پیام آشنائی بنوازد آشنا را»\n",
      "ز نوای مرغ یا حق بشنو که در دل شب / غم دل به دوست گفتن چه خوشست شهریارا\n",
      "\n"
     ]
    }
   ],
   "source": [
    "print(verse)"
   ]
  },
  {
   "cell_type": "code",
   "execution_count": null,
   "id": "78d9e5ee-52b2-4ad6-b75b-aa29ad2f8004",
   "metadata": {},
   "outputs": [],
   "source": []
  },
  {
   "cell_type": "code",
   "execution_count": null,
   "id": "b06c3f22-8a22-454c-9dd7-779721880036",
   "metadata": {},
   "outputs": [],
   "source": []
  }
 ],
 "metadata": {
  "kernelspec": {
   "display_name": "Python 3 (ipykernel)",
   "language": "python",
   "name": "python3"
  },
  "language_info": {
   "codemirror_mode": {
    "name": "ipython",
    "version": 3
   },
   "file_extension": ".py",
   "mimetype": "text/x-python",
   "name": "python",
   "nbconvert_exporter": "python",
   "pygments_lexer": "ipython3",
   "version": "3.12.5"
  }
 },
 "nbformat": 4,
 "nbformat_minor": 5
}
