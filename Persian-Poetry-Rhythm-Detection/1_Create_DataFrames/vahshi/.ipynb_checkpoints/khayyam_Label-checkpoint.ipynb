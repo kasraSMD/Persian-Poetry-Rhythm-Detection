{
 "cells": [
  {
   "cell_type": "code",
   "execution_count": 1,
   "id": "af73be62-3911-4536-91ed-4f880cf22004",
   "metadata": {},
   "outputs": [],
   "source": [
    "import pandas as pd"
   ]
  },
  {
   "cell_type": "code",
   "execution_count": 2,
   "id": "854af468-46e2-48ad-b610-6c87cfe6a077",
   "metadata": {},
   "outputs": [],
   "source": [
    "khayyam = pd.read_csv(\"khayyam.csv\", encoding='utf-8')"
   ]
  },
  {
   "cell_type": "code",
   "execution_count": 3,
   "id": "8867bca5-ca55-435d-8212-7d2379757bdf",
   "metadata": {},
   "outputs": [
    {
     "data": {
      "text/html": [
       "<div>\n",
       "<style scoped>\n",
       "    .dataframe tbody tr th:only-of-type {\n",
       "        vertical-align: middle;\n",
       "    }\n",
       "\n",
       "    .dataframe tbody tr th {\n",
       "        vertical-align: top;\n",
       "    }\n",
       "\n",
       "    .dataframe thead th {\n",
       "        text-align: right;\n",
       "    }\n",
       "</style>\n",
       "<table border=\"1\" class=\"dataframe\">\n",
       "  <thead>\n",
       "    <tr style=\"text-align: right;\">\n",
       "      <th></th>\n",
       "      <th>poem_id</th>\n",
       "      <th>book_name</th>\n",
       "      <th>count</th>\n",
       "      <th>title</th>\n",
       "      <th>verses</th>\n",
       "      <th>verse_number</th>\n",
       "      <th>label</th>\n",
       "      <th>poet</th>\n",
       "    </tr>\n",
       "  </thead>\n",
       "  <tbody>\n",
       "    <tr>\n",
       "      <th>0</th>\n",
       "      <td>1</td>\n",
       "      <td>رباعیات</td>\n",
       "      <td>1</td>\n",
       "      <td>رباعی شمارهٔ ۱</td>\n",
       "      <td>برخیز بیار بهر دل ما / حل کن به جمال خویشتن مش...</td>\n",
       "      <td>2</td>\n",
       "      <td>robaee</td>\n",
       "      <td>khayyam</td>\n",
       "    </tr>\n",
       "    <tr>\n",
       "      <th>1</th>\n",
       "      <td>2</td>\n",
       "      <td>رباعیات</td>\n",
       "      <td>2</td>\n",
       "      <td>رباعی شمارهٔ ۲</td>\n",
       "      <td>چون عهده نمی‌شود کسی فردا را / حالی خوش دار ای...</td>\n",
       "      <td>2</td>\n",
       "      <td>robaee</td>\n",
       "      <td>khayyam</td>\n",
       "    </tr>\n",
       "    <tr>\n",
       "      <th>2</th>\n",
       "      <td>3</td>\n",
       "      <td>رباعیات</td>\n",
       "      <td>3</td>\n",
       "      <td>رباعی شمارهٔ ۳</td>\n",
       "      <td>قرآن که مهین کلام خوانند آن را / گه گاه نه بر ...</td>\n",
       "      <td>2</td>\n",
       "      <td>robaee</td>\n",
       "      <td>khayyam</td>\n",
       "    </tr>\n",
       "    <tr>\n",
       "      <th>3</th>\n",
       "      <td>4</td>\n",
       "      <td>رباعیات</td>\n",
       "      <td>4</td>\n",
       "      <td>رباعی شمارهٔ ۴</td>\n",
       "      <td>گر می نخوری طعنه مزن مستانرا / بنیاد مکن تو حی...</td>\n",
       "      <td>2</td>\n",
       "      <td>robaee</td>\n",
       "      <td>khayyam</td>\n",
       "    </tr>\n",
       "    <tr>\n",
       "      <th>4</th>\n",
       "      <td>5</td>\n",
       "      <td>رباعیات</td>\n",
       "      <td>5</td>\n",
       "      <td>رباعی شمارهٔ ۵</td>\n",
       "      <td>هر چند که رنگ و بوی زیباست مرا / چون لاله رخ و...</td>\n",
       "      <td>2</td>\n",
       "      <td>robaee</td>\n",
       "      <td>khayyam</td>\n",
       "    </tr>\n",
       "    <tr>\n",
       "      <th>...</th>\n",
       "      <td>...</td>\n",
       "      <td>...</td>\n",
       "      <td>...</td>\n",
       "      <td>...</td>\n",
       "      <td>...</td>\n",
       "      <td>...</td>\n",
       "      <td>...</td>\n",
       "      <td>...</td>\n",
       "    </tr>\n",
       "    <tr>\n",
       "      <th>173</th>\n",
       "      <td>174</td>\n",
       "      <td>رباعیات</td>\n",
       "      <td>174</td>\n",
       "      <td>رباعی شمارهٔ ۱۷۴</td>\n",
       "      <td>گر آمدنم بخود بدی نامدمی / ور نیز شدن بمن بدی ...</td>\n",
       "      <td>2</td>\n",
       "      <td>robaee</td>\n",
       "      <td>khayyam</td>\n",
       "    </tr>\n",
       "    <tr>\n",
       "      <th>174</th>\n",
       "      <td>175</td>\n",
       "      <td>رباعیات</td>\n",
       "      <td>175</td>\n",
       "      <td>رباعی شمارهٔ ۱۷۵</td>\n",
       "      <td>گر دست دهد ز مغز گندم نانی / وز می دو منی ز گو...</td>\n",
       "      <td>2</td>\n",
       "      <td>robaee</td>\n",
       "      <td>khayyam</td>\n",
       "    </tr>\n",
       "    <tr>\n",
       "      <th>175</th>\n",
       "      <td>176</td>\n",
       "      <td>رباعیات</td>\n",
       "      <td>176</td>\n",
       "      <td>رباعی شمارهٔ ۱۷۶</td>\n",
       "      <td>گر کار فلک به عدل سنجیده بدی / احوال فلک جمله ...</td>\n",
       "      <td>2</td>\n",
       "      <td>robaee</td>\n",
       "      <td>khayyam</td>\n",
       "    </tr>\n",
       "    <tr>\n",
       "      <th>176</th>\n",
       "      <td>177</td>\n",
       "      <td>رباعیات</td>\n",
       "      <td>177</td>\n",
       "      <td>رباعی شمارهٔ ۱۷۷</td>\n",
       "      <td>هان کوزه‌گرا بپای اگر هشیاری / تا چند کنی بر گ...</td>\n",
       "      <td>2</td>\n",
       "      <td>robaee</td>\n",
       "      <td>khayyam</td>\n",
       "    </tr>\n",
       "    <tr>\n",
       "      <th>177</th>\n",
       "      <td>178</td>\n",
       "      <td>رباعیات</td>\n",
       "      <td>178</td>\n",
       "      <td>رباعی شمارهٔ ۱۷۸</td>\n",
       "      <td>هنگام صبوح ای صنم فرخ پی / برساز ترانه‌ای و پی...</td>\n",
       "      <td>2</td>\n",
       "      <td>robaee</td>\n",
       "      <td>khayyam</td>\n",
       "    </tr>\n",
       "  </tbody>\n",
       "</table>\n",
       "<p>178 rows × 8 columns</p>\n",
       "</div>"
      ],
      "text/plain": [
       "     poem_id book_name  count             title  \\\n",
       "0          1   رباعیات      1    رباعی شمارهٔ ۱   \n",
       "1          2   رباعیات      2    رباعی شمارهٔ ۲   \n",
       "2          3   رباعیات      3    رباعی شمارهٔ ۳   \n",
       "3          4   رباعیات      4    رباعی شمارهٔ ۴   \n",
       "4          5   رباعیات      5    رباعی شمارهٔ ۵   \n",
       "..       ...       ...    ...               ...   \n",
       "173      174   رباعیات    174  رباعی شمارهٔ ۱۷۴   \n",
       "174      175   رباعیات    175  رباعی شمارهٔ ۱۷۵   \n",
       "175      176   رباعیات    176  رباعی شمارهٔ ۱۷۶   \n",
       "176      177   رباعیات    177  رباعی شمارهٔ ۱۷۷   \n",
       "177      178   رباعیات    178  رباعی شمارهٔ ۱۷۸   \n",
       "\n",
       "                                                verses  verse_number   label  \\\n",
       "0    برخیز بیار بهر دل ما / حل کن به جمال خویشتن مش...             2  robaee   \n",
       "1    چون عهده نمی‌شود کسی فردا را / حالی خوش دار ای...             2  robaee   \n",
       "2    قرآن که مهین کلام خوانند آن را / گه گاه نه بر ...             2  robaee   \n",
       "3    گر می نخوری طعنه مزن مستانرا / بنیاد مکن تو حی...             2  robaee   \n",
       "4    هر چند که رنگ و بوی زیباست مرا / چون لاله رخ و...             2  robaee   \n",
       "..                                                 ...           ...     ...   \n",
       "173  گر آمدنم بخود بدی نامدمی / ور نیز شدن بمن بدی ...             2  robaee   \n",
       "174  گر دست دهد ز مغز گندم نانی / وز می دو منی ز گو...             2  robaee   \n",
       "175  گر کار فلک به عدل سنجیده بدی / احوال فلک جمله ...             2  robaee   \n",
       "176  هان کوزه‌گرا بپای اگر هشیاری / تا چند کنی بر گ...             2  robaee   \n",
       "177  هنگام صبوح ای صنم فرخ پی / برساز ترانه‌ای و پی...             2  robaee   \n",
       "\n",
       "        poet  \n",
       "0    khayyam  \n",
       "1    khayyam  \n",
       "2    khayyam  \n",
       "3    khayyam  \n",
       "4    khayyam  \n",
       "..       ...  \n",
       "173  khayyam  \n",
       "174  khayyam  \n",
       "175  khayyam  \n",
       "176  khayyam  \n",
       "177  khayyam  \n",
       "\n",
       "[178 rows x 8 columns]"
      ]
     },
     "execution_count": 3,
     "metadata": {},
     "output_type": "execute_result"
    }
   ],
   "source": [
    "khayyam"
   ]
  },
  {
   "cell_type": "code",
   "execution_count": 30,
   "id": "68d38a8c-c581-479b-a004-a49934e0f123",
   "metadata": {},
   "outputs": [
    {
     "data": {
      "text/plain": [
       "poem_id         0\n",
       "book_name       0\n",
       "count           0\n",
       "title           0\n",
       "verses          0\n",
       "verse_number    0\n",
       "label           0\n",
       "poet            0\n",
       "dtype: int64"
      ]
     },
     "execution_count": 30,
     "metadata": {},
     "output_type": "execute_result"
    }
   ],
   "source": [
    "ferdousi.isna().sum()"
   ]
  },
  {
   "cell_type": "code",
   "execution_count": 31,
   "id": "6e21c573-a0dc-4371-94a1-f3e44586abd6",
   "metadata": {},
   "outputs": [
    {
     "data": {
      "text/plain": [
       "poem_id          int64\n",
       "book_name       object\n",
       "count            int64\n",
       "title           object\n",
       "verses          object\n",
       "verse_number     int64\n",
       "label           object\n",
       "poet            object\n",
       "dtype: object"
      ]
     },
     "execution_count": 31,
     "metadata": {},
     "output_type": "execute_result"
    }
   ],
   "source": [
    "ferdousi.dtypes"
   ]
  },
  {
   "cell_type": "code",
   "execution_count": 32,
   "id": "e2f4f500-3470-405a-8561-9005106604af",
   "metadata": {},
   "outputs": [
    {
     "data": {
      "text/plain": [
       "poem_id          int64\n",
       "book_name       object\n",
       "count            int64\n",
       "title           object\n",
       "verses          object\n",
       "verse_number     int64\n",
       "label           object\n",
       "poet            object\n",
       "dtype: object"
      ]
     },
     "execution_count": 32,
     "metadata": {},
     "output_type": "execute_result"
    }
   ],
   "source": [
    "ferdousi.dtypes"
   ]
  },
  {
   "cell_type": "code",
   "execution_count": 33,
   "id": "67293329-0379-418a-82e0-d8433778ac56",
   "metadata": {},
   "outputs": [],
   "source": [
    "pd.set_option('display.max_colwidth', None)"
   ]
  },
  {
   "cell_type": "code",
   "execution_count": 34,
   "id": "483bb61b-f8db-4069-b99d-3a3ab774a3f2",
   "metadata": {},
   "outputs": [
    {
     "data": {
      "text/plain": [
       "({'شاهنامه\\nآغاز کتاب',\n",
       "  'شاهنامه\\nجمشید',\n",
       "  'شاهنامه\\nجنگ بزرگ کیخسرو با افراسیاب',\n",
       "  'شاهنامه\\nداستان اکوان دیو',\n",
       "  'شاهنامه\\nداستان بیژن و منیژه',\n",
       "  'شاهنامه\\nداستان خاقان چین',\n",
       "  'شاهنامه\\nداستان دوازده رخ',\n",
       "  'شاهنامه\\nداستان رستم و اسفندیار',\n",
       "  'شاهنامه\\nداستان رستم و شغاد',\n",
       "  'شاهنامه\\nداستان سیاوش',\n",
       "  'شاهنامه\\nداستان هفتخوان اسفندیار',\n",
       "  'شاهنامه\\nداستان کاموس کشانی',\n",
       "  'شاهنامه\\nرزم کاووس با شاه هاماوران',\n",
       "  'شاهنامه\\nسهراب',\n",
       "  'شاهنامه\\nضحاک',\n",
       "  'شاهنامه\\nطهمورث',\n",
       "  'شاهنامه\\nفریدون',\n",
       "  'شاهنامه\\nمنوچهر',\n",
       "  'شاهنامه\\nهوشنگ',\n",
       "  'شاهنامه\\nپادشاهی آزرم دخت',\n",
       "  'شاهنامه\\nپادشاهی اردشیر',\n",
       "  'شاهنامه\\nپادشاهی اردشیر شیروی',\n",
       "  'شاهنامه\\nپادشاهی اردشیر نکوکار',\n",
       "  'شاهنامه\\nپادشاهی اسکندر',\n",
       "  'شاهنامه\\nپادشاهی اشکانیان',\n",
       "  'شاهنامه\\nپادشاهی اورمزد',\n",
       "  'شاهنامه\\nپادشاهی اورمزد نرسی',\n",
       "  'شاهنامه\\nپادشاهی بهرام اورمزد',\n",
       "  'شاهنامه\\nپادشاهی بهرام بهرامیان',\n",
       "  'شاهنامه\\nپادشاهی بهرام شاپور',\n",
       "  'شاهنامه\\nپادشاهی بهرام نوزده سال بود',\n",
       "  'شاهنامه\\nپادشاهی بهرام گور',\n",
       "  'شاهنامه\\nپادشاهی بهمن اسفندیار صد و دوازده سال بود',\n",
       "  'شاهنامه\\nپادشاهی خسرو پرویز',\n",
       "  'شاهنامه\\nپادشاهی داراب دوازده سال بود',\n",
       "  'شاهنامه\\nپادشاهی دارای داراب چهارده سال بود',\n",
       "  'شاهنامه\\nپادشاهی زوطهماسپ',\n",
       "  'شاهنامه\\nپادشاهی شاپور ذوالاکتاف',\n",
       "  'شاهنامه\\nپادشاهی شاپور سوم',\n",
       "  'شاهنامه\\nپادشاهی شاپور پسر اردشیر سی و یک سال بود',\n",
       "  'شاهنامه\\nپادشاهی شیرویه',\n",
       "  'شاهنامه\\nپادشاهی فرایین',\n",
       "  'شاهنامه\\nپادشاهی فرخ زاد',\n",
       "  'شاهنامه\\nپادشاهی قباد چهل و سه سال بود',\n",
       "  'شاهنامه\\nپادشاهی لهراسپ',\n",
       "  'شاهنامه\\nپادشاهی نرسی بهرام',\n",
       "  'شاهنامه\\nپادشاهی نوذر',\n",
       "  'شاهنامه\\nپادشاهی هرمزد دوازده سال بود',\n",
       "  'شاهنامه\\nپادشاهی همای چهرزاد سی و دو سال بود',\n",
       "  'شاهنامه\\nپادشاهی پوران دخت',\n",
       "  'شاهنامه\\nپادشاهی کسری نوشین روان چهل و هشت سال بود',\n",
       "  'شاهنامه\\nپادشاهی کیخسرو شصت سال بود',\n",
       "  'شاهنامه\\nپادشاهی کی\\u200cکاووس و رفتن او به مازندران',\n",
       "  'شاهنامه\\nپادشاهی گرشاسپ',\n",
       "  'شاهنامه\\nپادشاهی گشتاسپ صد و بیست سال بود',\n",
       "  'شاهنامه\\nپادشاهی یزدگرد',\n",
       "  'شاهنامه\\nپادشاهی یزدگرد بزه\\u200cگر',\n",
       "  'شاهنامه\\nپادشاهی یزدگرد هجده سال بود',\n",
       "  'شاهنامه\\nکیقباد',\n",
       "  'شاهنامه\\nکیومرث',\n",
       "  'شاهنامه\\nگفتار اندر داستان فرود سیاوش'},\n",
       " 61)"
      ]
     },
     "execution_count": 34,
     "metadata": {},
     "output_type": "execute_result"
    }
   ],
   "source": [
    "s = set()\n",
    "for i in ferdousi[\"book_name\"]:\n",
    "    s.add(i)\n",
    "s, len(s)"
   ]
  },
  {
   "cell_type": "code",
   "execution_count": 35,
   "id": "5da0d45d-f33c-48f0-8da2-e98fd7c0d8d8",
   "metadata": {},
   "outputs": [
    {
     "data": {
      "text/plain": [
       "poem_id          int64\n",
       "book_name       object\n",
       "count            int64\n",
       "title           object\n",
       "verses          object\n",
       "verse_number     int64\n",
       "label           object\n",
       "poet            object\n",
       "dtype: object"
      ]
     },
     "execution_count": 35,
     "metadata": {},
     "output_type": "execute_result"
    }
   ],
   "source": [
    "ferdousi.dtypes"
   ]
  },
  {
   "cell_type": "code",
   "execution_count": 36,
   "id": "01df3093-7857-4da5-8cb7-a135e3d3c1e9",
   "metadata": {},
   "outputs": [
    {
     "data": {
      "text/plain": [
       "624"
      ]
     },
     "execution_count": 36,
     "metadata": {},
     "output_type": "execute_result"
    }
   ],
   "source": [
    "len(ferdousi['verses'])"
   ]
  },
  {
   "cell_type": "code",
   "execution_count": 9,
   "id": "268c889b-cf46-4e41-95ef-afe9b298a941",
   "metadata": {},
   "outputs": [],
   "source": [
    "verse = bahar['verses'][1]"
   ]
  },
  {
   "cell_type": "code",
   "execution_count": 10,
   "id": "7fe5ca44-d93f-4299-a302-05c0c3e3e44b",
   "metadata": {},
   "outputs": [
    {
     "data": {
      "text/plain": [
       "'بیایید ای کبوترهای دلخواه / سحر گاهان که این مرغ طلایی\\nبپرید از فراز بام و ناگاه / ببینمتان به قصد خودنمایی\\nبدن کافورگون پاها چو شنگرف / فشاند پر ز روی برج خاور\\nبه گرد من فرود آیید چون برف / کشیده سر ز پشت شیشهٔ در\\nفرو خوانده سرود بی گناهی / کشیده عاشقانه بر زمین دم\\nبه گوشم\\u200c، با نسیم صبحگاهی / نوید عشق آید زان ترنم\\nسحرگه سرکنید آرام آرام / نواهای لطیف آسمانی\\nسوی عشاق بفرستید پیغام / دمادم با زبان بی\\u200cزبانی\\nمهیا ای عروسان نو آیین / که بگشایم در آن آشیان من\\nخروش بال\\u200cهاتان اندر آن حین / رود از خانه سوی کوی و برزن\\nشود گوبی در از خلد برین باز / چو من بر رویتان بگشایم اندر\\nکنید افرشته\\u200cوش یکباره پرواز / به گردون دوخته \\u200cپر، یک به دیگر\\nشوند افرشتگان از چرخ نازل / به\\u200c زعم مردمان باستانی\\nشما افرشتگان از سطح منزل / بگیرید اوج و گردید آسمانی\\nنیاید از شما در هیچ حالی / وگر مانید بس بی \\u200cآب و دانه\\nنه فریادی و نه قیلی و قالی / بجز دلکش سرود عاشقانه\\nفرود آیید ای یاران از آن بام / کف \\u200cاندر کف زنان و رقص رقصان\\nنشینید از برّ این سطح آرام / که\\u200c اینجا نیست جز من هیچ انسان\\nبیایید ای رفیقان وفادار / من اینجا بهرتان افشانم ارزن\\nکه دیدار شما بهر من زار / به است از دیدن مردان برزن\\n'"
      ]
     },
     "execution_count": 10,
     "metadata": {},
     "output_type": "execute_result"
    }
   ],
   "source": [
    "verse"
   ]
  },
  {
   "cell_type": "code",
   "execution_count": 11,
   "id": "1ea30a3b-2155-462f-aee9-990ca3e1a35a",
   "metadata": {},
   "outputs": [
    {
     "name": "stdout",
     "output_type": "stream",
     "text": [
      "بیایید ای کبوترهای دلخواه / سحر گاهان که این مرغ طلایی\n",
      "بپرید از فراز بام و ناگاه / ببینمتان به قصد خودنمایی\n",
      "بدن کافورگون پاها چو شنگرف / فشاند پر ز روی برج خاور\n",
      "به گرد من فرود آیید چون برف / کشیده سر ز پشت شیشهٔ در\n",
      "فرو خوانده سرود بی گناهی / کشیده عاشقانه بر زمین دم\n",
      "به گوشم‌، با نسیم صبحگاهی / نوید عشق آید زان ترنم\n",
      "سحرگه سرکنید آرام آرام / نواهای لطیف آسمانی\n",
      "سوی عشاق بفرستید پیغام / دمادم با زبان بی‌زبانی\n",
      "مهیا ای عروسان نو آیین / که بگشایم در آن آشیان من\n",
      "خروش بال‌هاتان اندر آن حین / رود از خانه سوی کوی و برزن\n",
      "شود گوبی در از خلد برین باز / چو من بر رویتان بگشایم اندر\n",
      "کنید افرشته‌وش یکباره پرواز / به گردون دوخته ‌پر، یک به دیگر\n",
      "شوند افرشتگان از چرخ نازل / به‌ زعم مردمان باستانی\n",
      "شما افرشتگان از سطح منزل / بگیرید اوج و گردید آسمانی\n",
      "نیاید از شما در هیچ حالی / وگر مانید بس بی ‌آب و دانه\n",
      "نه فریادی و نه قیلی و قالی / بجز دلکش سرود عاشقانه\n",
      "فرود آیید ای یاران از آن بام / کف ‌اندر کف زنان و رقص رقصان\n",
      "نشینید از برّ این سطح آرام / که‌ اینجا نیست جز من هیچ انسان\n",
      "بیایید ای رفیقان وفادار / من اینجا بهرتان افشانم ارزن\n",
      "که دیدار شما بهر من زار / به است از دیدن مردان برزن\n",
      "\n"
     ]
    }
   ],
   "source": [
    "print(verse)"
   ]
  },
  {
   "cell_type": "code",
   "execution_count": null,
   "id": "78d9e5ee-52b2-4ad6-b75b-aa29ad2f8004",
   "metadata": {},
   "outputs": [],
   "source": []
  },
  {
   "cell_type": "code",
   "execution_count": null,
   "id": "b06c3f22-8a22-454c-9dd7-779721880036",
   "metadata": {},
   "outputs": [],
   "source": []
  }
 ],
 "metadata": {
  "kernelspec": {
   "display_name": "Python 3 (ipykernel)",
   "language": "python",
   "name": "python3"
  },
  "language_info": {
   "codemirror_mode": {
    "name": "ipython",
    "version": 3
   },
   "file_extension": ".py",
   "mimetype": "text/x-python",
   "name": "python",
   "nbconvert_exporter": "python",
   "pygments_lexer": "ipython3",
   "version": "3.12.5"
  }
 },
 "nbformat": 4,
 "nbformat_minor": 5
}
